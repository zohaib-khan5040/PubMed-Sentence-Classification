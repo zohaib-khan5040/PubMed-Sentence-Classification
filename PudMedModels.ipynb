{
  "nbformat": 4,
  "nbformat_minor": 0,
  "metadata": {
    "colab": {
      "name": "PudMedModels.ipynb",
      "provenance": [],
      "collapsed_sections": []
    },
    "kernelspec": {
      "name": "python3",
      "display_name": "Python 3"
    },
    "language_info": {
      "name": "python"
    },
    "accelerator": "GPU"
  },
  "cells": [
    {
      "cell_type": "markdown",
      "metadata": {
        "id": "zZC3h7iDhn3E"
      },
      "source": [
        "We will (mostly) replicate the following paper: https://arxiv.org/abs/1710.06071\n",
        "\n",
        "This paper works to establish a model capable of taking the abstract of a PubMed RCT paper, and splitting the sentences into groups to make the paragraph easier to read. \n",
        "\n",
        "# Get the Data\n",
        "\n",
        "The data has been graciously made freely available on the author's (Frank Dernoncourt's) GitHub."
      ]
    },
    {
      "cell_type": "code",
      "metadata": {
        "colab": {
          "base_uri": "https://localhost:8080/"
        },
        "id": "ykJmdNEY5QG9",
        "outputId": "cd5d4cfa-d465-44b9-965f-db7e194d1278"
      },
      "source": [
        "!nvidia-smi -L"
      ],
      "execution_count": 1,
      "outputs": [
        {
          "output_type": "stream",
          "text": [
            "GPU 0: Tesla T4 (UUID: GPU-01ba01ca-8e1b-81a8-b6c6-d1b777d5ad39)\n"
          ],
          "name": "stdout"
        }
      ]
    },
    {
      "cell_type": "code",
      "metadata": {
        "colab": {
          "base_uri": "https://localhost:8080/"
        },
        "id": "UdUZR2mbjM4l",
        "outputId": "dfaac062-61a2-491d-833e-62fc44a4354e"
      },
      "source": [
        "!git clone https://github.com/Franck-Dernoncourt/pubmed-rct\n",
        "!ls pubmed-rct"
      ],
      "execution_count": 2,
      "outputs": [
        {
          "output_type": "stream",
          "text": [
            "Cloning into 'pubmed-rct'...\n",
            "remote: Enumerating objects: 33, done.\u001b[K\n",
            "remote: Counting objects: 100% (3/3), done.\u001b[K\n",
            "remote: Compressing objects: 100% (3/3), done.\u001b[K\n",
            "remote: Total 33 (delta 0), reused 0 (delta 0), pack-reused 30\u001b[K\n",
            "Unpacking objects: 100% (33/33), done.\n",
            "PubMed_200k_RCT\n",
            "PubMed_200k_RCT_numbers_replaced_with_at_sign\n",
            "PubMed_20k_RCT\n",
            "PubMed_20k_RCT_numbers_replaced_with_at_sign\n",
            "README.md\n"
          ],
          "name": "stdout"
        }
      ]
    },
    {
      "cell_type": "markdown",
      "metadata": {
        "id": "DTry0cX5jUO9"
      },
      "source": [
        "The following files contain the data:\n",
        "```\n",
        "PubMed_200k_RCT\n",
        "PubMed_200k_RCT_numbers_replaced_with_at_sign\n",
        "PubMed_20k_RCT\n",
        "PubMed_20k_RCT_numbers_replaced_with_at_sign\n",
        "```\n",
        "\n",
        "There are 20k and 200k datasets along with seperate files for each where some preprocessing has already been done: the numbers have been replaced with `@`s.\n",
        "\n",
        "We will concern ourselves with the 20k dataset for now with the number preprocessing dealt with, so we can establish a strong model first."
      ]
    },
    {
      "cell_type": "code",
      "metadata": {
        "colab": {
          "base_uri": "https://localhost:8080/"
        },
        "id": "HRayAxP_j47f",
        "outputId": "44990cb0-7c08-4ed1-e868-76bdcbd0b724"
      },
      "source": [
        "# Check what files are in the 20k dataset\n",
        "!ls pubmed-rct/PubMed_20k_RCT_numbers_replaced_with_at_sign"
      ],
      "execution_count": 3,
      "outputs": [
        {
          "output_type": "stream",
          "text": [
            "dev.txt  test.txt  train.txt\n"
          ],
          "name": "stdout"
        }
      ]
    },
    {
      "cell_type": "code",
      "metadata": {
        "colab": {
          "base_uri": "https://localhost:8080/"
        },
        "id": "yB0JQljbkBIS",
        "outputId": "a46a00fb-f435-4699-df77-0ad7e87fa980"
      },
      "source": [
        "# Establish paths to all these files\n",
        "data_dir = \"/content/pubmed-rct/PubMed_20k_RCT_numbers_replaced_with_at_sign/\"\n",
        "\n",
        "import os\n",
        "filenames = [data_dir + fname for fname in os.listdir(data_dir)]\n",
        "filenames"
      ],
      "execution_count": 4,
      "outputs": [
        {
          "output_type": "execute_result",
          "data": {
            "text/plain": [
              "['/content/pubmed-rct/PubMed_20k_RCT_numbers_replaced_with_at_sign/train.txt',\n",
              " '/content/pubmed-rct/PubMed_20k_RCT_numbers_replaced_with_at_sign/dev.txt',\n",
              " '/content/pubmed-rct/PubMed_20k_RCT_numbers_replaced_with_at_sign/test.txt']"
            ]
          },
          "metadata": {
            "tags": []
          },
          "execution_count": 4
        }
      ]
    },
    {
      "cell_type": "markdown",
      "metadata": {
        "id": "Qp1JPVNtka8k"
      },
      "source": [
        "# Visualize and Preprocess Data"
      ]
    },
    {
      "cell_type": "code",
      "metadata": {
        "id": "MNlAsNoQkmHH"
      },
      "source": [
        "# Must be able to read in the contents of the files first\n",
        "def get_lines(filename):\n",
        "  \"\"\"Reads in the content of a file at the specified path and returns the lines as a list\"\"\"\n",
        "  with open(filename, 'r') as f:\n",
        "    return f.readlines()"
      ],
      "execution_count": 5,
      "outputs": []
    },
    {
      "cell_type": "code",
      "metadata": {
        "colab": {
          "base_uri": "https://localhost:8080/"
        },
        "id": "jXsJov31k8l-",
        "outputId": "dd93fb9a-230f-4b15-beb2-d082e13e08ea"
      },
      "source": [
        "# Read in the lines from the training set\n",
        "train_lines = get_lines(data_dir + \"train.txt\")\n",
        "print(f\"Total number of lines in the training set: {len(train_lines)}\\n\")\n",
        "print(f\"The first 20 lines:\\n\")\n",
        "train_lines[:20]"
      ],
      "execution_count": 6,
      "outputs": [
        {
          "output_type": "stream",
          "text": [
            "Total number of lines in the training set: 210040\n",
            "\n",
            "The first 20 lines:\n",
            "\n"
          ],
          "name": "stdout"
        },
        {
          "output_type": "execute_result",
          "data": {
            "text/plain": [
              "['###24293578\\n',\n",
              " 'OBJECTIVE\\tTo investigate the efficacy of @ weeks of daily low-dose oral prednisolone in improving pain , mobility , and systemic low-grade inflammation in the short term and whether the effect would be sustained at @ weeks in older adults with moderate to severe knee osteoarthritis ( OA ) .\\n',\n",
              " 'METHODS\\tA total of @ patients with primary knee OA were randomized @:@ ; @ received @ mg/day of prednisolone and @ received placebo for @ weeks .\\n',\n",
              " 'METHODS\\tOutcome measures included pain reduction and improvement in function scores and systemic inflammation markers .\\n',\n",
              " 'METHODS\\tPain was assessed using the visual analog pain scale ( @-@ mm ) .\\n',\n",
              " 'METHODS\\tSecondary outcome measures included the Western Ontario and McMaster Universities Osteoarthritis Index scores , patient global assessment ( PGA ) of the severity of knee OA , and @-min walk distance ( @MWD ) .\\n',\n",
              " 'METHODS\\tSerum levels of interleukin @ ( IL-@ ) , IL-@ , tumor necrosis factor ( TNF ) - , and high-sensitivity C-reactive protein ( hsCRP ) were measured .\\n',\n",
              " 'RESULTS\\tThere was a clinically relevant reduction in the intervention group compared to the placebo group for knee pain , physical function , PGA , and @MWD at @ weeks .\\n',\n",
              " 'RESULTS\\tThe mean difference between treatment arms ( @ % CI ) was @ ( @-@ @ ) , p < @ ; @ ( @-@ @ ) , p < @ ; @ ( @-@ @ ) , p < @ ; and @ ( @-@ @ ) , p < @ , respectively .\\n',\n",
              " 'RESULTS\\tFurther , there was a clinically relevant reduction in the serum levels of IL-@ , IL-@ , TNF - , and hsCRP at @ weeks in the intervention group when compared to the placebo group .\\n',\n",
              " 'RESULTS\\tThese differences remained significant at @ weeks .\\n',\n",
              " 'RESULTS\\tThe Outcome Measures in Rheumatology Clinical Trials-Osteoarthritis Research Society International responder rate was @ % in the intervention group and @ % in the placebo group ( p < @ ) .\\n',\n",
              " 'CONCLUSIONS\\tLow-dose oral prednisolone had both a short-term and a longer sustained effect resulting in less knee pain , better physical function , and attenuation of systemic inflammation in older patients with knee OA ( ClinicalTrials.gov identifier NCT@ ) .\\n',\n",
              " '\\n',\n",
              " '###24854809\\n',\n",
              " 'BACKGROUND\\tEmotional eating is associated with overeating and the development of obesity .\\n',\n",
              " 'BACKGROUND\\tYet , empirical evidence for individual ( trait ) differences in emotional eating and cognitive mechanisms that contribute to eating during sad mood remain equivocal .\\n',\n",
              " 'OBJECTIVE\\tThe aim of this study was to test if attention bias for food moderates the effect of self-reported emotional eating during sad mood ( vs neutral mood ) on actual food intake .\\n',\n",
              " 'OBJECTIVE\\tIt was expected that emotional eating is predictive of elevated attention for food and higher food intake after an experimentally induced sad mood and that attentional maintenance on food predicts food intake during a sad versus a neutral mood .\\n',\n",
              " 'METHODS\\tParticipants ( N = @ ) were randomly assigned to one of the two experimental mood induction conditions ( sad/neutral ) .\\n']"
            ]
          },
          "metadata": {
            "tags": []
          },
          "execution_count": 6
        }
      ]
    },
    {
      "cell_type": "markdown",
      "metadata": {
        "id": "Ky5AqOPjlN1j"
      },
      "source": [
        "The data is not organized at all. One way to make everything neater is to represent the whole thing as a **list of dictionaries**, where each dictionary contains certain bits of information regarding the abstract it belongs to.\n",
        "\n",
        "Since there are over 200000 lines, we should expect around 200000 dictionaries in the list."
      ]
    },
    {
      "cell_type": "code",
      "metadata": {
        "id": "Y72muDg-l1FS"
      },
      "source": [
        "# Write a preprocessing function to handle the above steps for us\n",
        "def preprocess_text_with_line_numbers(filename):\n",
        "  \"\"\"Returns a list of dictionaries of abstract line data\"\"\"\n",
        "  # Read in the file first and get the lines\n",
        "  input_lines = get_lines(filename)\n",
        "  \n",
        "  abstract_lines = \"\" # Create an empty abstract\n",
        "  abstract_samples = [] # Create an empty list to append the dictionaries to \n",
        "\n",
        "  # Loop through each line that was read in \n",
        "  for line in input_lines:\n",
        "    # If the line starts with ###, we've hit a new abstract\n",
        "    if line.startswith(\"###\"):\n",
        "      abstract_id = line\n",
        "      abstract_lines = \"\" # Reset the abstract reader\n",
        "\n",
        "    # If there is an empty line, the abstract is over\n",
        "    elif line.isspace():\n",
        "      abstract_line_split = abstract_lines.splitlines() # Abstract split into seperate lines\n",
        "\n",
        "      for i, abstract_line in enumerate(abstract_line_split):\n",
        "        # Extract the data for the line\n",
        "        line_data = {}\n",
        "        target_text_split = abstract_line.split('\\t')\n",
        "        line_data[\"line_number\"] = i\n",
        "        line_data[\"target\"] = target_text_split[0]\n",
        "        line_data[\"text\"] = target_text_split[1].lower()\n",
        "        line_data[\"total_lines\"] = len(abstract_line_split) - 1 # Zero-indexed\n",
        "\n",
        "        # Append the line dict to the list\n",
        "        abstract_samples.append(line_data)        \n",
        "    \n",
        "    # Else we start to read everything in\n",
        "    else:\n",
        "      abstract_lines += line\n",
        "    \n",
        "  return abstract_samples"
      ],
      "execution_count": 7,
      "outputs": []
    },
    {
      "cell_type": "code",
      "metadata": {
        "colab": {
          "base_uri": "https://localhost:8080/"
        },
        "id": "lTu7pQzsqx7Y",
        "outputId": "c793d133-1508-44a9-c2f6-a831531991e3"
      },
      "source": [
        "# Run this for the training, validation and test sets\n",
        "%%time\n",
        "train_samples = preprocess_text_with_line_numbers(data_dir+\"train.txt\")\n",
        "val_samples = preprocess_text_with_line_numbers(data_dir+\"dev.txt\")\n",
        "test_samples = preprocess_text_with_line_numbers(data_dir+\"test.txt\")\n",
        "\n",
        "print(f\"\"\"\n",
        "Number of Training samples: {len(train_samples)}\n",
        "Number of Validation samples: {len(val_samples)}\n",
        "Number of Test samples: {len(test_samples)}\n",
        "\"\"\")"
      ],
      "execution_count": 8,
      "outputs": [
        {
          "output_type": "stream",
          "text": [
            "\n",
            "Number of Training samples: 180040\n",
            "Number of Validation samples: 30212\n",
            "Number of Test samples: 30135\n",
            "\n",
            "CPU times: user 449 ms, sys: 84.2 ms, total: 533 ms\n",
            "Wall time: 537 ms\n"
          ],
          "name": "stdout"
        }
      ]
    },
    {
      "cell_type": "code",
      "metadata": {
        "colab": {
          "base_uri": "https://localhost:8080/"
        },
        "id": "qY70IdhPrSlh",
        "outputId": "92b0bd3d-fb40-41e7-b2c0-389bd5cd96ca"
      },
      "source": [
        "# Check out the first two dicts inside the list\n",
        "train_samples[:2]"
      ],
      "execution_count": 9,
      "outputs": [
        {
          "output_type": "execute_result",
          "data": {
            "text/plain": [
              "[{'line_number': 0,\n",
              "  'target': 'OBJECTIVE',\n",
              "  'text': 'to investigate the efficacy of @ weeks of daily low-dose oral prednisolone in improving pain , mobility , and systemic low-grade inflammation in the short term and whether the effect would be sustained at @ weeks in older adults with moderate to severe knee osteoarthritis ( oa ) .',\n",
              "  'total_lines': 11},\n",
              " {'line_number': 1,\n",
              "  'target': 'METHODS',\n",
              "  'text': 'a total of @ patients with primary knee oa were randomized @:@ ; @ received @ mg/day of prednisolone and @ received placebo for @ weeks .',\n",
              "  'total_lines': 11}]"
            ]
          },
          "metadata": {
            "tags": []
          },
          "execution_count": 9
        }
      ]
    },
    {
      "cell_type": "code",
      "metadata": {
        "colab": {
          "base_uri": "https://localhost:8080/",
          "height": 267
        },
        "id": "1dbCpiqirfWU",
        "outputId": "da82a5d3-8ce3-410a-bfa9-84a7c394732d"
      },
      "source": [
        "# Put it all inside a DataFrame for easy IO\n",
        "import pandas as pd\n",
        "train_df = pd.DataFrame(train_samples)\n",
        "val_df = pd.DataFrame(val_samples)\n",
        "test_df = pd.DataFrame(test_samples)\n",
        "\n",
        "train_df.head(7)"
      ],
      "execution_count": 10,
      "outputs": [
        {
          "output_type": "execute_result",
          "data": {
            "text/html": [
              "<div>\n",
              "<style scoped>\n",
              "    .dataframe tbody tr th:only-of-type {\n",
              "        vertical-align: middle;\n",
              "    }\n",
              "\n",
              "    .dataframe tbody tr th {\n",
              "        vertical-align: top;\n",
              "    }\n",
              "\n",
              "    .dataframe thead th {\n",
              "        text-align: right;\n",
              "    }\n",
              "</style>\n",
              "<table border=\"1\" class=\"dataframe\">\n",
              "  <thead>\n",
              "    <tr style=\"text-align: right;\">\n",
              "      <th></th>\n",
              "      <th>line_number</th>\n",
              "      <th>target</th>\n",
              "      <th>text</th>\n",
              "      <th>total_lines</th>\n",
              "    </tr>\n",
              "  </thead>\n",
              "  <tbody>\n",
              "    <tr>\n",
              "      <th>0</th>\n",
              "      <td>0</td>\n",
              "      <td>OBJECTIVE</td>\n",
              "      <td>to investigate the efficacy of @ weeks of dail...</td>\n",
              "      <td>11</td>\n",
              "    </tr>\n",
              "    <tr>\n",
              "      <th>1</th>\n",
              "      <td>1</td>\n",
              "      <td>METHODS</td>\n",
              "      <td>a total of @ patients with primary knee oa wer...</td>\n",
              "      <td>11</td>\n",
              "    </tr>\n",
              "    <tr>\n",
              "      <th>2</th>\n",
              "      <td>2</td>\n",
              "      <td>METHODS</td>\n",
              "      <td>outcome measures included pain reduction and i...</td>\n",
              "      <td>11</td>\n",
              "    </tr>\n",
              "    <tr>\n",
              "      <th>3</th>\n",
              "      <td>3</td>\n",
              "      <td>METHODS</td>\n",
              "      <td>pain was assessed using the visual analog pain...</td>\n",
              "      <td>11</td>\n",
              "    </tr>\n",
              "    <tr>\n",
              "      <th>4</th>\n",
              "      <td>4</td>\n",
              "      <td>METHODS</td>\n",
              "      <td>secondary outcome measures included the wester...</td>\n",
              "      <td>11</td>\n",
              "    </tr>\n",
              "    <tr>\n",
              "      <th>5</th>\n",
              "      <td>5</td>\n",
              "      <td>METHODS</td>\n",
              "      <td>serum levels of interleukin @ ( il-@ ) , il-@ ...</td>\n",
              "      <td>11</td>\n",
              "    </tr>\n",
              "    <tr>\n",
              "      <th>6</th>\n",
              "      <td>6</td>\n",
              "      <td>RESULTS</td>\n",
              "      <td>there was a clinically relevant reduction in t...</td>\n",
              "      <td>11</td>\n",
              "    </tr>\n",
              "  </tbody>\n",
              "</table>\n",
              "</div>"
            ],
            "text/plain": [
              "   line_number  ... total_lines\n",
              "0            0  ...          11\n",
              "1            1  ...          11\n",
              "2            2  ...          11\n",
              "3            3  ...          11\n",
              "4            4  ...          11\n",
              "5            5  ...          11\n",
              "6            6  ...          11\n",
              "\n",
              "[7 rows x 4 columns]"
            ]
          },
          "metadata": {
            "tags": []
          },
          "execution_count": 10
        }
      ]
    },
    {
      "cell_type": "code",
      "metadata": {
        "id": "UYR-xUbkr9QE",
        "colab": {
          "base_uri": "https://localhost:8080/"
        },
        "outputId": "fadfb2ec-7f0f-465d-8485-31258fced72a"
      },
      "source": [
        "# Grab the sentences as a list of strings\n",
        "train_sentences = train_df[\"text\"].tolist()\n",
        "val_sentences = val_df[\"text\"].tolist()\n",
        "test_sentences = test_df[\"text\"].tolist()\n",
        "\n",
        "print(f\"\"\"\n",
        "Number of Training sentences: {len(train_sentences)}\n",
        "Number of Validation sentences: {len(val_sentences)}\n",
        "Number of Test sentences: {len(test_sentences)}\n",
        "\"\"\")\n",
        "\n",
        "# Check the first three sentences of the training set\n",
        "train_sentences[:3]"
      ],
      "execution_count": 11,
      "outputs": [
        {
          "output_type": "stream",
          "text": [
            "\n",
            "Number of Training sentences: 180040\n",
            "Number of Validation sentences: 30212\n",
            "Number of Test sentences: 30135\n",
            "\n"
          ],
          "name": "stdout"
        },
        {
          "output_type": "execute_result",
          "data": {
            "text/plain": [
              "['to investigate the efficacy of @ weeks of daily low-dose oral prednisolone in improving pain , mobility , and systemic low-grade inflammation in the short term and whether the effect would be sustained at @ weeks in older adults with moderate to severe knee osteoarthritis ( oa ) .',\n",
              " 'a total of @ patients with primary knee oa were randomized @:@ ; @ received @ mg/day of prednisolone and @ received placebo for @ weeks .',\n",
              " 'outcome measures included pain reduction and improvement in function scores and systemic inflammation markers .']"
            ]
          },
          "metadata": {
            "tags": []
          },
          "execution_count": 11
        }
      ]
    },
    {
      "cell_type": "code",
      "metadata": {
        "colab": {
          "base_uri": "https://localhost:8080/",
          "height": 267
        },
        "id": "rMPUUQ0dsY8Y",
        "outputId": "803dea92-665b-4c80-a0e4-d4a2be251a62"
      },
      "source": [
        "# What's the distribution of the total lines per abstract\n",
        "train_df[\"total_lines\"].plot.hist();"
      ],
      "execution_count": 12,
      "outputs": [
        {
          "output_type": "display_data",
          "data": {
            "image/png": "[encoded data removed]",
            "text/plain": [
              "<Figure size 432x288 with 1 Axes>"
            ]
          },
          "metadata": {
            "tags": [],
            "needs_background": "light"
          }
        }
      ]
    },
    {
      "cell_type": "markdown",
      "metadata": {
        "id": "ZNylZh2Cs3Ef"
      },
      "source": [
        "# Turning Labels to Numbers\n",
        "\n",
        "We will make use of both Label and One-hot Encoding since they can come in useful later."
      ]
    },
    {
      "cell_type": "code",
      "metadata": {
        "colab": {
          "base_uri": "https://localhost:8080/"
        },
        "id": "Q-v_UhZDtC2h",
        "outputId": "ad70cd97-a521-4664-c8f6-2da75800487e"
      },
      "source": [
        "# One-hot encode the labels\n",
        "from sklearn.preprocessing import OneHotEncoder\n",
        "\n",
        "one_hot_encoder = OneHotEncoder(sparse=False) # Sparse outputs not compatible with TensorFlow\n",
        "\n",
        "train_labels_one_hot = one_hot_encoder.fit_transform(train_df[\"target\"].to_numpy().reshape(-1,1))\n",
        "val_labels_one_hot = one_hot_encoder.transform(val_df[\"target\"].to_numpy().reshape(-1,1))\n",
        "test_labels_one_hot = one_hot_encoder.transform(test_df[\"target\"].to_numpy().reshape(-1,1))\n",
        "\n",
        "train_labels_one_hot"
      ],
      "execution_count": 13,
      "outputs": [
        {
          "output_type": "execute_result",
          "data": {
            "text/plain": [
              "array([[0., 0., 0., 1., 0.],\n",
              "       [0., 0., 1., 0., 0.],\n",
              "       [0., 0., 1., 0., 0.],\n",
              "       ...,\n",
              "       [0., 0., 0., 0., 1.],\n",
              "       [0., 1., 0., 0., 0.],\n",
              "       [0., 1., 0., 0., 0.]])"
            ]
          },
          "metadata": {
            "tags": []
          },
          "execution_count": 13
        }
      ]
    },
    {
      "cell_type": "code",
      "metadata": {
        "colab": {
          "base_uri": "https://localhost:8080/"
        },
        "id": "3Hzff547tLpP",
        "outputId": "ac44d6a5-2d96-42a8-859c-713be2f106e4"
      },
      "source": [
        "# Now label encode them\n",
        "from sklearn.preprocessing import LabelEncoder\n",
        "label_encoder = LabelEncoder()\n",
        "\n",
        "train_labels_encoded = label_encoder.fit_transform(train_df[\"target\"].to_numpy())\n",
        "val_labels_encoded = label_encoder.transform(val_df[\"target\"].to_numpy())\n",
        "test_labels_encoded = label_encoder.transform(test_df[\"target\"].to_numpy())\n",
        "\n",
        "train_labels_encoded"
      ],
      "execution_count": 14,
      "outputs": [
        {
          "output_type": "execute_result",
          "data": {
            "text/plain": [
              "array([3, 2, 2, ..., 4, 1, 1])"
            ]
          },
          "metadata": {
            "tags": []
          },
          "execution_count": 14
        }
      ]
    },
    {
      "cell_type": "code",
      "metadata": {
        "colab": {
          "base_uri": "https://localhost:8080/"
        },
        "id": "Z_dDv5LFuRMW",
        "outputId": "5aa603ab-b4fb-442f-ad7d-79a4a75cfd8f"
      },
      "source": [
        "train_labels_one_hot.shape, train_labels_encoded.shape"
      ],
      "execution_count": 15,
      "outputs": [
        {
          "output_type": "execute_result",
          "data": {
            "text/plain": [
              "((180040, 5), (180040,))"
            ]
          },
          "metadata": {
            "tags": []
          },
          "execution_count": 15
        }
      ]
    },
    {
      "cell_type": "markdown",
      "metadata": {
        "id": "PNopLUZVuVTF"
      },
      "source": [
        "# Preparing Data for Deep Sequence Modeling\n",
        "\n",
        "We have the labels and the text. We can start by creating a Vectorizer and Token Embeddings for a deep model."
      ]
    },
    {
      "cell_type": "code",
      "metadata": {
        "colab": {
          "base_uri": "https://localhost:8080/"
        },
        "id": "s_lvxMgGuydl",
        "outputId": "64920beb-65bb-4bfe-dac0-e394e11cb83b"
      },
      "source": [
        "import numpy as np\n",
        "import tensorflow as tf\n",
        "from tensorflow.keras import layers\n",
        "import matplotlib.pyplot as plt\n",
        "%matplotlib inline\n",
        "print(tf.__version__)"
      ],
      "execution_count": 16,
      "outputs": [
        {
          "output_type": "stream",
          "text": [
            "2.5.0\n"
          ],
          "name": "stdout"
        }
      ]
    },
    {
      "cell_type": "code",
      "metadata": {
        "colab": {
          "base_uri": "https://localhost:8080/"
        },
        "id": "PuAxnE7lu2QT",
        "outputId": "9ab75a6c-0d69-49c8-86c9-0dd10fd0e2fd"
      },
      "source": [
        "# How long is each sentence on average?\n",
        "sent_lens = [len(sentence.split()) for sentence in train_sentences]\n",
        "avg_sent_len = np.mean(sent_lens)\n",
        "avg_sent_len"
      ],
      "execution_count": 17,
      "outputs": [
        {
          "output_type": "execute_result",
          "data": {
            "text/plain": [
              "26.338269273494777"
            ]
          },
          "metadata": {
            "tags": []
          },
          "execution_count": 17
        }
      ]
    },
    {
      "cell_type": "code",
      "metadata": {
        "colab": {
          "base_uri": "https://localhost:8080/",
          "height": 406
        },
        "id": "x-9HjvKevKrU",
        "outputId": "c041f5d0-8a93-4496-c741-aa8a0b1e1abb"
      },
      "source": [
        "# Check the distribution of the sentence lengths\n",
        "plt.hist(sent_lens, bins=20)"
      ],
      "execution_count": 18,
      "outputs": [
        {
          "output_type": "execute_result",
          "data": {
            "text/plain": [
              "(array([4.2075e+04, 8.3771e+04, 3.6877e+04, 1.0945e+04, 3.9310e+03,\n",
              "        1.4450e+03, 5.6000e+02, 2.2600e+02, 1.0100e+02, 4.5000e+01,\n",
              "        2.0000e+01, 1.2000e+01, 9.0000e+00, 1.0000e+01, 6.0000e+00,\n",
              "        2.0000e+00, 3.0000e+00, 0.0000e+00, 1.0000e+00, 1.0000e+00]),\n",
              " array([  1.  ,  15.75,  30.5 ,  45.25,  60.  ,  74.75,  89.5 , 104.25,\n",
              "        119.  , 133.75, 148.5 , 163.25, 178.  , 192.75, 207.5 , 222.25,\n",
              "        237.  , 251.75, 266.5 , 281.25, 296.  ]),\n",
              " <a list of 20 Patch objects>)"
            ]
          },
          "metadata": {
            "tags": []
          },
          "execution_count": 18
        },
        {
          "output_type": "display_data",
          "data": {
            "image/png": "[encoded data removed]",
            "text/plain": [
              "<Figure size 432x288 with 1 Axes>"
            ]
          },
          "metadata": {
            "tags": [],
            "needs_background": "light"
          }
        }
      ]
    },
    {
      "cell_type": "code",
      "metadata": {
        "colab": {
          "base_uri": "https://localhost:8080/"
        },
        "id": "6uGusWvSvcAf",
        "outputId": "fe02e4b0-abde-4a8c-fd6d-977d50efd926"
      },
      "source": [
        "# What length of sentences describes 95% of the examples?\n",
        "output_seq_len = int(np.percentile(sent_lens, 95))\n",
        "output_seq_len"
      ],
      "execution_count": 19,
      "outputs": [
        {
          "output_type": "execute_result",
          "data": {
            "text/plain": [
              "55"
            ]
          },
          "metadata": {
            "tags": []
          },
          "execution_count": 19
        }
      ]
    },
    {
      "cell_type": "code",
      "metadata": {
        "colab": {
          "base_uri": "https://localhost:8080/"
        },
        "id": "FDn7bnsAvwY5",
        "outputId": "22712a25-e76b-4944-f226-775611f0a9f4"
      },
      "source": [
        "# Why does the graph go all the way to 300?\n",
        "max(sent_lens)"
      ],
      "execution_count": 20,
      "outputs": [
        {
          "output_type": "execute_result",
          "data": {
            "text/plain": [
              "296"
            ]
          },
          "metadata": {
            "tags": []
          },
          "execution_count": 20
        }
      ]
    },
    {
      "cell_type": "markdown",
      "metadata": {
        "id": "L1DoJXgav6N3"
      },
      "source": [
        "Now that we have information regarding the distribution of sentence lengths, we can define better values to pass to our Vectorizer and Embedding layers.\n",
        "\n",
        "## Text Vectorizer\n",
        "\n",
        "In the paper, the cardinality of the 20k dataset was said to be around 68000, which means we can use this value for our Vectorizer's vocabulary."
      ]
    },
    {
      "cell_type": "code",
      "metadata": {
        "id": "fTY2IK6iwNn-"
      },
      "source": [
        "# Create the Vectorizer\n",
        "from tensorflow.keras.layers.experimental.preprocessing import TextVectorization\n",
        "\n",
        "max_tokens = 68000 # Size of vocab\n",
        "\n",
        "text_vectorizer = TextVectorization(max_tokens=max_tokens, # Define vocab size\n",
        "                                    output_sequence_length=output_seq_len) # Truncate/Pad to 95th percentile length\n",
        "\n",
        "# Adapt Vectorizer to training sentences\n",
        "text_vectorizer.adapt(train_sentences)"
      ],
      "execution_count": 21,
      "outputs": []
    },
    {
      "cell_type": "code",
      "metadata": {
        "colab": {
          "base_uri": "https://localhost:8080/"
        },
        "id": "WmXpBDK2wxqQ",
        "outputId": "f3cfd059-cafe-4512-e501-3805802c39a4"
      },
      "source": [
        "# Check if it works on a random sentence\n",
        "import random\n",
        "rand_sent = random.choice(train_sentences)\n",
        "\n",
        "print(f\"Original Text:\\n{rand_sent}\")\n",
        "print(f\"\\nLength of Sentence: {len(rand_sent.split())}\\n\")\n",
        "print(f\"Vectorized input: {text_vectorizer([rand_sent])}\")"
      ],
      "execution_count": 22,
      "outputs": [
        {
          "output_type": "stream",
          "text": [
            "Original Text:\n",
            "secondary outcomes , domain-specific sitting over the whole day , were assessed by self-report .\n",
            "\n",
            "Length of Sentence: 15\n",
            "\n",
            "Vectorized input: [[  151    75 23344  2875   145     2  1300   108     9   113    22  2062\n",
            "      0     0     0     0     0     0     0     0     0     0     0     0\n",
            "      0     0     0     0     0     0     0     0     0     0     0     0\n",
            "      0     0     0     0     0     0     0     0     0     0     0     0\n",
            "      0     0     0     0     0     0     0]]\n"
          ],
          "name": "stdout"
        }
      ]
    },
    {
      "cell_type": "code",
      "metadata": {
        "colab": {
          "base_uri": "https://localhost:8080/"
        },
        "id": "YAoR2h_px5is",
        "outputId": "2d59eff4-fb16-4182-dd73-357fdd32acce"
      },
      "source": [
        "# Explore the Vectorizer a bit more\n",
        "vectorizer_vocab = text_vectorizer.get_vocabulary()\n",
        "print(f\"\"\"\n",
        "Number of items in the Vocab: {len(vectorizer_vocab)}\n",
        "5 common items in the Vocab: {vectorizer_vocab[:5]}\n",
        "5 least common items in the Vocab: {vectorizer_vocab[-5:]}\n",
        "\"\"\")"
      ],
      "execution_count": 23,
      "outputs": [
        {
          "output_type": "stream",
          "text": [
            "\n",
            "Number of items in the Vocab: 64841\n",
            "5 common items in the Vocab: ['', '[UNK]', 'the', 'and', 'of']\n",
            "5 least common items in the Vocab: ['aainduced', 'aaigroup', 'aachener', 'aachen', 'aaacp']\n",
            "\n"
          ],
          "name": "stdout"
        }
      ]
    },
    {
      "cell_type": "markdown",
      "metadata": {
        "id": "_q_8L7YNynrE"
      },
      "source": [
        "## Custom Token Embedding Layer"
      ]
    },
    {
      "cell_type": "code",
      "metadata": {
        "id": "0ZbbMKd64MYk"
      },
      "source": [
        "# Create the Embedding layer\n",
        "token_embedding_layer = layers.Embedding(input_dim=len(vectorizer_vocab),\n",
        "                               output_dim=128,\n",
        "                               mask_zero=True,\n",
        "                               name=\"token_embedding\")"
      ],
      "execution_count": 24,
      "outputs": []
    },
    {
      "cell_type": "code",
      "metadata": {
        "colab": {
          "base_uri": "https://localhost:8080/"
        },
        "id": "LrSxv1dC4neY",
        "outputId": "ba3b11f9-50f5-4f6e-a480-ecb821b706dc"
      },
      "source": [
        "# Check if the layer works\n",
        "vectorized_sent = text_vectorizer([rand_sent])\n",
        "embedded_sent = token_embedding_layer(vectorized_sent)\n",
        "print(f\"Sentence before Vectorization:\\n{rand_sent}\\n\")\n",
        "print(f\"Sentence after Vectorization:\\n{vectorized_sent}\\n\")\n",
        "print(f\"\\nEmbedded Sentence:\\n{embedded_sent}\")"
      ],
      "execution_count": 25,
      "outputs": [
        {
          "output_type": "stream",
          "text": [
            "Sentence before Vectorization:\n",
            "secondary outcomes , domain-specific sitting over the whole day , were assessed by self-report .\n",
            "\n",
            "Sentence after Vectorization:\n",
            "[[  151    75 23344  2875   145     2  1300   108     9   113    22  2062\n",
            "      0     0     0     0     0     0     0     0     0     0     0     0\n",
            "      0     0     0     0     0     0     0     0     0     0     0     0\n",
            "      0     0     0     0     0     0     0     0     0     0     0     0\n",
            "      0     0     0     0     0     0     0]]\n",
            "\n",
            "\n",
            "Embedded Sentence:\n",
            "[[[ 1.0662854e-02  6.0240999e-03 -4.9726773e-02 ...  3.9118979e-02\n",
            "    1.8138740e-02  1.8286314e-02]\n",
            "  [-4.1120123e-02 -3.4853172e-02 -2.0107675e-02 ... -1.6046382e-02\n",
            "    7.8007691e-03  2.9024687e-02]\n",
            "  [-4.0988494e-02  2.3384903e-02  1.4683757e-02 ...  8.6904541e-03\n",
            "    7.1156770e-05 -1.0790825e-03]\n",
            "  ...\n",
            "  [-7.8444369e-03 -2.3250723e-02  2.2455480e-02 ... -4.7077835e-02\n",
            "   -4.6716549e-02 -3.6198676e-02]\n",
            "  [-7.8444369e-03 -2.3250723e-02  2.2455480e-02 ... -4.7077835e-02\n",
            "   -4.6716549e-02 -3.6198676e-02]\n",
            "  [-7.8444369e-03 -2.3250723e-02  2.2455480e-02 ... -4.7077835e-02\n",
            "   -4.6716549e-02 -3.6198676e-02]]]\n"
          ],
          "name": "stdout"
        }
      ]
    },
    {
      "cell_type": "code",
      "metadata": {
        "colab": {
          "base_uri": "https://localhost:8080/"
        },
        "id": "vzaEJqMj5IBh",
        "outputId": "b9620cd2-0046-464e-b925-f4268ccbc58d"
      },
      "source": [
        "# Check the shape\n",
        "embedded_sent.shape"
      ],
      "execution_count": 26,
      "outputs": [
        {
          "output_type": "execute_result",
          "data": {
            "text/plain": [
              "TensorShape([1, 55, 128])"
            ]
          },
          "metadata": {
            "tags": []
          },
          "execution_count": 26
        }
      ]
    },
    {
      "cell_type": "markdown",
      "metadata": {
        "id": "Q355gIBd5PYs"
      },
      "source": [
        "# Pretrained Token Embedding Layer\n",
        "\n",
        "The paper claims to use GloVe Token Embeddings from 2014. TensorFlow Hub has a pretrained model that suits the task almost perfectly: a BERT trained on PubMed extracts. We will see how this pretrained model (without fine-tuning) compares to the Custom Token Embeddings when we create our models later."
      ]
    },
    {
      "cell_type": "code",
      "metadata": {
        "id": "nOYM4lh06IPE",
        "colab": {
          "base_uri": "https://localhost:8080/"
        },
        "outputId": "3abbc780-6da6-4e7b-fdd7-dae75b1e1827"
      },
      "source": [
        "!pip3 install --quiet tensorflow-text\n",
        "import tensorflow_hub as hub\n",
        "import tensorflow_text as text \n",
        "\n",
        "# Load BERT Encoder and Preprocessing models as dictated by TF Hub\n",
        "preprocess = hub.load('https://tfhub.dev/tensorflow/bert_en_uncased_preprocess/3')\n",
        "bert = hub.load('https://tfhub.dev/google/experts/bert/pubmed/2')"
      ],
      "execution_count": 27,
      "outputs": [
        {
          "output_type": "stream",
          "text": [
            "\u001b[K     |████████████████████████████████| 4.3MB 9.6MB/s \n",
            "\u001b[?25h"
          ],
          "name": "stdout"
        }
      ]
    },
    {
      "cell_type": "code",
      "metadata": {
        "id": "hlQKFYxMQu9V"
      },
      "source": [
        "# Set them up as Keras layers\n",
        "preprocess_layer = hub.KerasLayer(preprocess, name=\"preprocessing\")\n",
        "bert_layer = hub.KerasLayer(bert, trainable=False, name=\"BERT_encoder\")"
      ],
      "execution_count": 28,
      "outputs": []
    },
    {
      "cell_type": "code",
      "metadata": {
        "colab": {
          "base_uri": "https://localhost:8080/"
        },
        "id": "ModITJOT7MPG",
        "outputId": "8faae5bd-b8c0-4494-c99b-7676f46b21ec"
      },
      "source": [
        "# Test it out on a random sentence\n",
        "bert_pooled_output = bert(preprocess([rand_sent]), training=False)[\"pooled_output\"]\n",
        "bert_seq_output = bert(preprocess([rand_sent]), training=False)[\"sequence_output\"]\n",
        "\n",
        "bert_pooled_output.shape, bert_seq_output.shape"
      ],
      "execution_count": 29,
      "outputs": [
        {
          "output_type": "execute_result",
          "data": {
            "text/plain": [
              "(TensorShape([1, 768]), TensorShape([1, 128, 768]))"
            ]
          },
          "metadata": {
            "tags": []
          },
          "execution_count": 29
        }
      ]
    },
    {
      "cell_type": "markdown",
      "metadata": {
        "id": "UMnfvaOs7sf5"
      },
      "source": [
        "## Creating Datasets and testing the Pretrained Token Embeddings\n",
        "\n",
        "The paper goes on to form a multimodal model but since we have a very deep pretrained model for feature extraction, we should try it out in a proper model to establish a baseline.\n",
        "\n",
        "Our Baseline will be a Convolution-based Sequence Model which uses the BERT pretrained Embeddings."
      ]
    },
    {
      "cell_type": "code",
      "metadata": {
        "colab": {
          "base_uri": "https://localhost:8080/"
        },
        "id": "yunZmcc688W6",
        "outputId": "d433a1a7-890f-44da-80a4-351891636f34"
      },
      "source": [
        "# Form datasets (forget the Testing for now)\n",
        "train_dataset = tf.data.Dataset.from_tensor_slices(\n",
        "    (train_sentences, train_labels_one_hot)\n",
        ")\n",
        "val_dataset = tf.data.Dataset.from_tensor_slices(\n",
        "    (val_sentences, val_labels_one_hot)\n",
        ")\n",
        "train_dataset"
      ],
      "execution_count": null,
      "outputs": [
        {
          "output_type": "execute_result",
          "data": {
            "text/plain": [
              "<TensorSliceDataset shapes: ((), (5,)), types: (tf.string, tf.float64)>"
            ]
          },
          "metadata": {
            "tags": []
          },
          "execution_count": 30
        }
      ]
    },
    {
      "cell_type": "code",
      "metadata": {
        "colab": {
          "base_uri": "https://localhost:8080/"
        },
        "id": "MrQFzWtc9mIe",
        "outputId": "d51075b1-9e7f-446a-cebc-4629c4e6818d"
      },
      "source": [
        "# Prefetch and Autotune to optimize for performance\n",
        "train_dataset = train_dataset.batch(32).prefetch(tf.data.AUTOTUNE)\n",
        "val_dataset = val_dataset.batch(32).prefetch(tf.data.AUTOTUNE)\n",
        "\n",
        "train_dataset, val_dataset"
      ],
      "execution_count": null,
      "outputs": [
        {
          "output_type": "execute_result",
          "data": {
            "text/plain": [
              "(<PrefetchDataset shapes: ((None,), (None, 5)), types: (tf.string, tf.float64)>,\n",
              " <PrefetchDataset shapes: ((None,), (None, 5)), types: (tf.string, tf.float64)>)"
            ]
          },
          "metadata": {
            "tags": []
          },
          "execution_count": 31
        }
      ]
    },
    {
      "cell_type": "code",
      "metadata": {
        "id": "_myGUoUB9-F5"
      },
      "source": [
        "num_classes = len(label_encoder.classes_)\n",
        "\n",
        "# Set up a Convolutional Model\n",
        "inputs = layers.Input(shape=(), dtype=tf.string, name=\"text\")\n",
        "processed_inps = preprocess_layer(inputs)\n",
        "bert_sequence_output = bert_layer(processed_inps, training=False)[\"sequence_output\"]\n",
        "x = layers.Conv1D(64, kernel_size=5, padding=\"same\", activation=\"relu\")(bert_sequence_output)\n",
        "x = layers.GlobalMaxPool1D()(x)\n",
        "outputs = layers.Dense(num_classes, activation=\"softmax\")(x)\n",
        "\n",
        "baseline_model = tf.keras.Model(inputs, outputs)\n",
        "\n",
        "# Compile the model\n",
        "baseline_model.compile(loss=\"categorical_crossentropy\",\n",
        "                       optimizer=tf.keras.optimizers.Adam(),\n",
        "                       metrics=[\"accuracy\"])"
      ],
      "execution_count": null,
      "outputs": []
    },
    {
      "cell_type": "code",
      "metadata": {
        "colab": {
          "base_uri": "https://localhost:8080/"
        },
        "id": "j-gsdeSKE0As",
        "outputId": "307601d5-7992-4a0e-f8dc-85a33cbc1bb3"
      },
      "source": [
        "baseline_model.summary()"
      ],
      "execution_count": null,
      "outputs": [
        {
          "output_type": "stream",
          "text": [
            "Model: \"model\"\n",
            "__________________________________________________________________________________________________\n",
            "Layer (type)                    Output Shape         Param #     Connected to                     \n",
            "==================================================================================================\n",
            "text (InputLayer)               [(None,)]            0                                            \n",
            "__________________________________________________________________________________________________\n",
            "preprocessing (KerasLayer)      {'input_mask': (None 0           text[0][0]                       \n",
            "__________________________________________________________________________________________________\n",
            "BERT_encoder (KerasLayer)       {'encoder_outputs':  109482241   preprocessing[1][0]              \n",
            "                                                                 preprocessing[1][1]              \n",
            "                                                                 preprocessing[1][2]              \n",
            "__________________________________________________________________________________________________\n",
            "conv1d_1 (Conv1D)               (None, 128, 64)      245824      BERT_encoder[1][14]              \n",
            "__________________________________________________________________________________________________\n",
            "global_max_pooling1d (GlobalMax (None, 64)           0           conv1d_1[0][0]                   \n",
            "__________________________________________________________________________________________________\n",
            "dense (Dense)                   (None, 5)            325         global_max_pooling1d[0][0]       \n",
            "==================================================================================================\n",
            "Total params: 109,728,390\n",
            "Trainable params: 246,149\n",
            "Non-trainable params: 109,482,241\n",
            "__________________________________________________________________________________________________\n"
          ],
          "name": "stdout"
        }
      ]
    },
    {
      "cell_type": "code",
      "metadata": {
        "colab": {
          "base_uri": "https://localhost:8080/",
          "height": 564
        },
        "id": "qfLHCd37RRWp",
        "outputId": "2b68fb6d-d45e-47fd-df39-88154f6dc850"
      },
      "source": [
        "# Make it more visual\n",
        "from tensorflow.keras.utils import plot_model\n",
        "plot_model(baseline_model)"
      ],
      "execution_count": null,
      "outputs": [
        {
          "output_type": "execute_result",
          "data": {
            "image/png": "[encoded data removed]",
            "text/plain": [
              "<IPython.core.display.Image object>"
            ]
          },
          "metadata": {
            "tags": []
          },
          "execution_count": 35
        }
      ]
    },
    {
      "cell_type": "code",
      "metadata": {
        "colab": {
          "base_uri": "https://localhost:8080/"
        },
        "id": "RohGmLCKRa1G",
        "outputId": "3f8442a9-d037-4b87-8e16-e49769c1b23a"
      },
      "source": [
        "!nvidia-smi -L"
      ],
      "execution_count": null,
      "outputs": [
        {
          "output_type": "stream",
          "text": [
            "GPU 0: Tesla T4 (UUID: GPU-c3e9541c-d921-7b79-bb5f-c920fd229d3d)\n"
          ],
          "name": "stdout"
        }
      ]
    },
    {
      "cell_type": "code",
      "metadata": {
        "colab": {
          "base_uri": "https://localhost:8080/"
        },
        "id": "7sRfxVm2F-IV",
        "outputId": "33969fa0-49ed-48d9-c204-fc69e033813c"
      },
      "source": [
        "# Fit the model\n",
        "history_baseline = baseline_model.fit(train_dataset,\n",
        "                                      epochs=3,\n",
        "                                      steps_per_epoch=int(0.1*len(train_dataset)),\n",
        "                                      validation_data=val_dataset,\n",
        "                                      validation_steps=int(0.1*len(val_dataset)))"
      ],
      "execution_count": null,
      "outputs": [
        {
          "output_type": "stream",
          "text": [
            "Epoch 1/3\n",
            "562/562 [==============================] - 244s 372ms/step - loss: 0.7139 - accuracy: 0.7980 - val_loss: 0.6773 - val_accuracy: 0.8059\n",
            "Epoch 2/3\n",
            "562/562 [==============================] - 219s 390ms/step - loss: 0.5316 - accuracy: 0.8329 - val_loss: 0.4439 - val_accuracy: 0.8421\n",
            "Epoch 3/3\n",
            "562/562 [==============================] - 219s 390ms/step - loss: 0.4357 - accuracy: 0.8469 - val_loss: 0.4449 - val_accuracy: 0.8291\n"
          ],
          "name": "stdout"
        }
      ]
    },
    {
      "cell_type": "code",
      "metadata": {
        "id": "rAs4jai5HfoA"
      },
      "source": [
        "# Write functions for plotting loss curves and grabbing evaluation metrics\n",
        "import matplotlib.pyplot as plt\n",
        "def plot_loss_curves(history):\n",
        "  \"\"\"Plots the loss curves for a history object\"\"\"\n",
        "  accuracy = history.history[\"accuracy\"]\n",
        "  loss = history.history[\"loss\"]\n",
        "  val_acc = history.history[\"val_accuracy\"]\n",
        "  val_loss = history.history[\"val_loss\"]\n",
        "  epochs = range(len(history.history[\"loss\"]))\n",
        "\n",
        "  plt.figure();\n",
        "  plt.plot(epochs, accuracy, label=\"training_accuracy\")\n",
        "  plt.plot(epochs, val_acc, label=\"validation_accuracy\")\n",
        "  plt.title(\"Accuracy\")\n",
        "  plt.xlabel(\"Epochs\")\n",
        "  plt.legend()\n",
        "\n",
        "  plt.figure();\n",
        "  plt.plot(epochs, loss, label=\"training_loss\")\n",
        "  plt.plot(epochs, val_loss, label=\"validation_loss\")\n",
        "  plt.title(\"Loss\")\n",
        "  plt.xlabel(\"Epochs\")\n",
        "  plt.legend()\n",
        "\n",
        "from sklearn.metrics import accuracy_score, precision_recall_fscore_support\n",
        "def calculate_results(y_true, y_pred):\n",
        "  \"\"\"Returns a dictionary of different Classification Metric values\"\"\"\n",
        "  accuracy = accuracy_score(y_true, y_pred)\n",
        "  precision, recall, f1, _ = precision_recall_fscore_support(y_true, y_pred, average=\"weighted\")\n",
        "  results = {\n",
        "      \"accuracy\": accuracy,\n",
        "      \"precision\": precision,\n",
        "      \"recall\": recall,\n",
        "      \"f1\": f1\n",
        "  }\n",
        "  return results"
      ],
      "execution_count": 30,
      "outputs": []
    },
    {
      "cell_type": "code",
      "metadata": {
        "colab": {
          "base_uri": "https://localhost:8080/",
          "height": 573
        },
        "id": "QRBIebPrUFWS",
        "outputId": "10e8e7fd-2737-45c1-8b23-84cc8cf73568"
      },
      "source": [
        "# Check the loss curves for the baseline\n",
        "plot_loss_curves(history_baseline)"
      ],
      "execution_count": null,
      "outputs": [
        {
          "output_type": "display_data",
          "data": {
            "image/png": "[encoded data removed]",
            "text/plain": [
              "<Figure size 432x288 with 1 Axes>"
            ]
          },
          "metadata": {
            "tags": [],
            "needs_background": "light"
          }
        },
        {
          "output_type": "display_data",
          "data": {
            "image/png": "[encoded data removed]",
            "text/plain": [
              "<Figure size 432x288 with 1 Axes>"
            ]
          },
          "metadata": {
            "tags": [],
            "needs_background": "light"
          }
        }
      ]
    },
    {
      "cell_type": "code",
      "metadata": {
        "colab": {
          "base_uri": "https://localhost:8080/"
        },
        "id": "Ke-bASFPUMy5",
        "outputId": "6783c8f7-899e-44ec-c639-f00d1687eca9"
      },
      "source": [
        "# Grab the predictions and the results\n",
        "baseline_probs = baseline_model.predict(val_dataset, verbose=1)\n",
        "baseline_preds = tf.argmax(baseline_probs, axis=1)\n",
        "baseline_results = calculate_results(baseline_preds, val_labels_encoded)\n",
        "baseline_results"
      ],
      "execution_count": null,
      "outputs": [
        {
          "output_type": "stream",
          "text": [
            "945/945 [==============================] - 342s 362ms/step\n"
          ],
          "name": "stdout"
        },
        {
          "output_type": "execute_result",
          "data": {
            "text/plain": [
              "{'accuracy': 0.8320865881106845,\n",
              " 'f1': 0.8395819660138925,\n",
              " 'precision': 0.8760295230145912,\n",
              " 'recall': 0.8320865881106845}"
            ]
          },
          "metadata": {
            "tags": []
          },
          "execution_count": 44
        }
      ]
    },
    {
      "cell_type": "code",
      "metadata": {
        "colab": {
          "base_uri": "https://localhost:8080/"
        },
        "id": "jOpR_oIolwWe",
        "outputId": "1c658379-4109-465c-fc03-1d1e13c33380"
      },
      "source": [
        "baseline_results"
      ],
      "execution_count": null,
      "outputs": [
        {
          "output_type": "execute_result",
          "data": {
            "text/plain": [
              "{'accuracy': 0.8320865881106845,\n",
              " 'f1': 0.8395819660138925,\n",
              " 'precision': 0.8760295230145912,\n",
              " 'recall': 0.8320865881106845}"
            ]
          },
          "metadata": {
            "tags": []
          },
          "execution_count": 71
        }
      ]
    },
    {
      "cell_type": "markdown",
      "metadata": {
        "id": "hhGZeLy1UpGB"
      },
      "source": [
        "This is a very strong Baseline and highlights the power of Transfer Learning: particularly because the pretrained model was trained for an extensive period of time, on a much larger dataset, and its purposes are identical to our own task.\n",
        "\n",
        "Safe to say, with such a strong baseline solely using Token Embeddings, there is no need to test out the custom Token Embeddings which would have to be trained from scratch on a much smaller dataset and with a much lower dimensionality.\n",
        "\n",
        "# Character Embedding Layer\n",
        "\n",
        "Along with pretrained GloVe Token Embeddings, the researchers also used Character Embeddings. The theory is that by coming up with richer representations for individual characters, the model should gain more insight into the use of language.\n",
        "\n",
        "To actually prepare the Character Embedding layer, we need to split the textual inputs into their indivdual chars."
      ]
    },
    {
      "cell_type": "code",
      "metadata": {
        "colab": {
          "base_uri": "https://localhost:8080/",
          "height": 70
        },
        "id": "OI5yy1UJWVn8",
        "outputId": "13040eb4-73fb-4fc6-ea87-b16f87da02f3"
      },
      "source": [
        "# Split sentences into chars\n",
        "def split_chars(text):\n",
        "  \"\"\"Takes text and splits it into its individual characters\"\"\"\n",
        "  return \" \".join(list(text))\n",
        "\n",
        "# Test it on a random sentence\n",
        "split_chars(rand_sent)"
      ],
      "execution_count": 31,
      "outputs": [
        {
          "output_type": "execute_result",
          "data": {
            "application/vnd.google.colaboratory.intrinsic+json": {
              "type": "string"
            },
            "text/plain": [
              "'s e c o n d a r y   o u t c o m e s   ,   d o m a i n - s p e c i f i c   s i t t i n g   o v e r   t h e   w h o l e   d a y   ,   w e r e   a s s e s s e d   b y   s e l f - r e p o r t   .'"
            ]
          },
          "metadata": {
            "tags": []
          },
          "execution_count": 31
        }
      ]
    },
    {
      "cell_type": "code",
      "metadata": {
        "colab": {
          "base_uri": "https://localhost:8080/"
        },
        "id": "P6vRb-8iWxJF",
        "outputId": "209304b2-8467-4edd-c8c8-4a2869f6c300"
      },
      "source": [
        "# Prepare datasets for this type of embedding\n",
        "train_chars = [split_chars(sentence) for sentence in train_sentences]\n",
        "val_chars = [split_chars(sentence) for sentence in val_sentences]\n",
        "test_chars = [split_chars(sentence) for sentence in test_sentences]\n",
        "\n",
        "train_chars[:2]"
      ],
      "execution_count": 32,
      "outputs": [
        {
          "output_type": "execute_result",
          "data": {
            "text/plain": [
              "['t o   i n v e s t i g a t e   t h e   e f f i c a c y   o f   @   w e e k s   o f   d a i l y   l o w - d o s e   o r a l   p r e d n i s o l o n e   i n   i m p r o v i n g   p a i n   ,   m o b i l i t y   ,   a n d   s y s t e m i c   l o w - g r a d e   i n f l a m m a t i o n   i n   t h e   s h o r t   t e r m   a n d   w h e t h e r   t h e   e f f e c t   w o u l d   b e   s u s t a i n e d   a t   @   w e e k s   i n   o l d e r   a d u l t s   w i t h   m o d e r a t e   t o   s e v e r e   k n e e   o s t e o a r t h r i t i s   (   o a   )   .',\n",
              " 'a   t o t a l   o f   @   p a t i e n t s   w i t h   p r i m a r y   k n e e   o a   w e r e   r a n d o m i z e d   @ : @   ;   @   r e c e i v e d   @   m g / d a y   o f   p r e d n i s o l o n e   a n d   @   r e c e i v e d   p l a c e b o   f o r   @   w e e k s   .']"
            ]
          },
          "metadata": {
            "tags": []
          },
          "execution_count": 32
        }
      ]
    },
    {
      "cell_type": "markdown",
      "metadata": {
        "id": "u4bNyZynXVLZ"
      },
      "source": [
        "In deciding the hyperparameters for the Embedding layer, we should (same as before) explore the data to find good representative values."
      ]
    },
    {
      "cell_type": "code",
      "metadata": {
        "colab": {
          "base_uri": "https://localhost:8080/"
        },
        "id": "TTXgGgK0XoWu",
        "outputId": "7e579c13-31f6-445d-d40b-7232177c3585"
      },
      "source": [
        "# Find the average number of chars in a sentence\n",
        "char_lens = [len(sentence) for sentence in train_sentences]\n",
        "mean_char_len = np.mean(char_lens)\n",
        "mean_char_len"
      ],
      "execution_count": 33,
      "outputs": [
        {
          "output_type": "execute_result",
          "data": {
            "text/plain": [
              "149.3662574983337"
            ]
          },
          "metadata": {
            "tags": []
          },
          "execution_count": 33
        }
      ]
    },
    {
      "cell_type": "code",
      "metadata": {
        "colab": {
          "base_uri": "https://localhost:8080/",
          "height": 441
        },
        "id": "O-9UqVr1X3Yr",
        "outputId": "ae1d8614-1be3-4eb2-c65c-e2945103fbc8"
      },
      "source": [
        "# Check the distribution\n",
        "plt.hist(char_lens, bins=20)"
      ],
      "execution_count": 34,
      "outputs": [
        {
          "output_type": "execute_result",
          "data": {
            "text/plain": [
              "(array([2.2108e+04, 7.0583e+04, 5.3952e+04, 2.2391e+04, 7.4540e+03,\n",
              "        2.2350e+03, 8.0200e+02, 2.8700e+02, 1.1800e+02, 4.9000e+01,\n",
              "        2.9000e+01, 1.3000e+01, 8.0000e+00, 5.0000e+00, 1.0000e+00,\n",
              "        2.0000e+00, 1.0000e+00, 1.0000e+00, 0.0000e+00, 1.0000e+00]),\n",
              " array([1.00000e+00, 7.02500e+01, 1.39500e+02, 2.08750e+02, 2.78000e+02,\n",
              "        3.47250e+02, 4.16500e+02, 4.85750e+02, 5.55000e+02, 6.24250e+02,\n",
              "        6.93500e+02, 7.62750e+02, 8.32000e+02, 9.01250e+02, 9.70500e+02,\n",
              "        1.03975e+03, 1.10900e+03, 1.17825e+03, 1.24750e+03, 1.31675e+03,\n",
              "        1.38600e+03]),\n",
              " <a list of 20 Patch objects>)"
            ]
          },
          "metadata": {
            "tags": []
          },
          "execution_count": 34
        },
        {
          "output_type": "display_data",
          "data": {
            "image/png": "[encoded data removed]",
            "text/plain": [
              "<Figure size 432x288 with 1 Axes>"
            ]
          },
          "metadata": {
            "tags": [],
            "needs_background": "light"
          }
        }
      ]
    },
    {
      "cell_type": "code",
      "metadata": {
        "colab": {
          "base_uri": "https://localhost:8080/"
        },
        "id": "v2FMYDhpX8mP",
        "outputId": "1083eebc-1ef6-4af3-8099-15802c14c523"
      },
      "source": [
        "# Check the 95th percentile\n",
        "output_seq_char_len = int(np.percentile(char_lens, 95))\n",
        "output_seq_char_len"
      ],
      "execution_count": 35,
      "outputs": [
        {
          "output_type": "execute_result",
          "data": {
            "text/plain": [
              "290"
            ]
          },
          "metadata": {
            "tags": []
          },
          "execution_count": 35
        }
      ]
    },
    {
      "cell_type": "markdown",
      "metadata": {
        "id": "aBUov3sEYI4q"
      },
      "source": [
        "Note that since we do not have preprocessing for this section, we need to make another `Vectorizer` that numerically encodes the inputs for the `Embedding`. \n",
        "\n",
        "The size of the vocab this time will be much smaller: we aren't dealing with words anymore."
      ]
    },
    {
      "cell_type": "code",
      "metadata": {
        "colab": {
          "base_uri": "https://localhost:8080/",
          "height": 35
        },
        "id": "cM2rs_T8YtPJ",
        "outputId": "e4e90bca-ecfb-4cd9-cfa6-7478982bb04d"
      },
      "source": [
        "# Get a collection of ascii chars\n",
        "import string\n",
        "sample_chars = string.ascii_lowercase + string.digits + string.punctuation\n",
        "sample_chars"
      ],
      "execution_count": 36,
      "outputs": [
        {
          "output_type": "execute_result",
          "data": {
            "application/vnd.google.colaboratory.intrinsic+json": {
              "type": "string"
            },
            "text/plain": [
              "'abcdefghijklmnopqrstuvwxyz0123456789!\"#$%&\\'()*+,-./:;<=>?@[\\\\]^_`{|}~'"
            ]
          },
          "metadata": {
            "tags": []
          },
          "execution_count": 36
        }
      ]
    },
    {
      "cell_type": "code",
      "metadata": {
        "id": "mRNrSKvqZdLg"
      },
      "source": [
        "# Create the Vectorizer\n",
        "num_char_tokens = len(sample_chars) + 2 # Extra space for whitespace and OOV tokens\n",
        "\n",
        "char_vectorizer = TextVectorization(max_tokens=num_char_tokens,\n",
        "                                    output_sequence_length=output_seq_char_len,\n",
        "                                    name=\"char_vectorizer\")\n",
        "char_vectorizer.adapt(train_chars)"
      ],
      "execution_count": 37,
      "outputs": []
    },
    {
      "cell_type": "code",
      "metadata": {
        "colab": {
          "base_uri": "https://localhost:8080/"
        },
        "id": "z7VfAowuZgP2",
        "outputId": "0abd732c-5646-4bdb-9250-352ff566d984"
      },
      "source": [
        "# Check out the Vectorizer\n",
        "char_vocab = char_vectorizer.get_vocabulary()\n",
        "print(f\"Number of items inside Char-Vocab: {len(char_vocab)}\\n\")\n",
        "print(f\"Most common items in Char-Vocab: {char_vocab[:5]}\")\n",
        "print(f\"Least common items in Char-Vocab: {char_vocab[-5:]}\")"
      ],
      "execution_count": 38,
      "outputs": [
        {
          "output_type": "stream",
          "text": [
            "Number of items inside Char-Vocab: 28\n",
            "\n",
            "Most common items in Char-Vocab: ['', '[UNK]', 'e', 't', 'i']\n",
            "Least common items in Char-Vocab: ['k', 'x', 'z', 'q', 'j']\n"
          ],
          "name": "stdout"
        }
      ]
    },
    {
      "cell_type": "code",
      "metadata": {
        "colab": {
          "base_uri": "https://localhost:8080/"
        },
        "id": "-bCQAuXWaX6t",
        "outputId": "0f5b73d1-8cc0-4022-8683-7a517cb86311"
      },
      "source": [
        "# Test it out on a sentence\n",
        "random_chars = random.choice(train_chars)\n",
        "print(f\"Char-ified text:\\n{random_chars}\\n\")\n",
        "print(f\"Length of char-ified text: {len(random_chars.split())}\\n\")\n",
        "vectorized_chars = char_vectorizer([random_chars])\n",
        "print(f\"Vectorized Char Text:\\n{vectorized_chars}\\n\")\n",
        "print(f\"Length of Processed chars: {len(vectorized_chars[0])}\")"
      ],
      "execution_count": 39,
      "outputs": [
        {
          "output_type": "stream",
          "text": [
            "Char-ified text:\n",
            "a   l a r g e r   p r a g m a t i c   t r i a l   i s   r e q u i r e d   t o   p r o v i d e   d e f i n i t i v e   e v i d e n c e   o f   e f f e c t i v e n e s s   a n d   c o s t - e f f e c t i v e n e s s   .\n",
            "\n",
            "Length of char-ified text: 95\n",
            "\n",
            "Vectorized Char Text:\n",
            "[[ 5 12  5  8 18  2  8 14  8  5 18 15  5  3  4 11  3  8  4  5 12  4  9  8\n",
            "   2 26 16  4  8  2 10  3  7 14  8  7 21  4 10  2 10  2 17  4  6  4  3  4\n",
            "  21  2  2 21  4 10  2  6 11  2  7 17  2 17 17  2 11  3  4 21  2  6  2  9\n",
            "   9  5  6 10 11  7  9  3  2 17 17  2 11  3  4 21  2  6  2  9  9  0  0  0\n",
            "   0  0  0  0  0  0  0  0  0  0  0  0  0  0  0  0  0  0  0  0  0  0  0  0\n",
            "   0  0  0  0  0  0  0  0  0  0  0  0  0  0  0  0  0  0  0  0  0  0  0  0\n",
            "   0  0  0  0  0  0  0  0  0  0  0  0  0  0  0  0  0  0  0  0  0  0  0  0\n",
            "   0  0  0  0  0  0  0  0  0  0  0  0  0  0  0  0  0  0  0  0  0  0  0  0\n",
            "   0  0  0  0  0  0  0  0  0  0  0  0  0  0  0  0  0  0  0  0  0  0  0  0\n",
            "   0  0  0  0  0  0  0  0  0  0  0  0  0  0  0  0  0  0  0  0  0  0  0  0\n",
            "   0  0  0  0  0  0  0  0  0  0  0  0  0  0  0  0  0  0  0  0  0  0  0  0\n",
            "   0  0  0  0  0  0  0  0  0  0  0  0  0  0  0  0  0  0  0  0  0  0  0  0\n",
            "   0  0]]\n",
            "\n",
            "Length of Processed chars: 290\n"
          ],
          "name": "stdout"
        }
      ]
    },
    {
      "cell_type": "code",
      "metadata": {
        "id": "4XhZr1Vqa-S1"
      },
      "source": [
        "# Now for the Embedding layer\n",
        "char_embedding_layer = layers.Embedding(input_dim=len(char_vocab),\n",
        "                                        output_dim=25, # Specified by paper\n",
        "                                        mask_zero=True,\n",
        "                                        name=\"char_embedding\")"
      ],
      "execution_count": 40,
      "outputs": []
    },
    {
      "cell_type": "code",
      "metadata": {
        "colab": {
          "base_uri": "https://localhost:8080/"
        },
        "id": "V8SJDm0gbeYI",
        "outputId": "8db9e83e-ed51-4dae-a15b-ea594e83881b"
      },
      "source": [
        "# Test out the Embedding layer\n",
        "sample = random.choice(train_chars)\n",
        "vectorized_samp = char_vectorizer([sample])\n",
        "embedded_samp = char_embedding_layer(vectorized_samp)\n",
        "print(f\"\"\"\n",
        "Original Char-ified text:\\n{sample}\\n\n",
        "Chars after Vectorization and Embeddings:\\n{embedded_samp}\\n\n",
        "Shape of Embedded Sample: {embedded_samp.shape}\"\"\")"
      ],
      "execution_count": 41,
      "outputs": [
        {
          "output_type": "stream",
          "text": [
            "\n",
            "Original Char-ified text:\n",
            "t h e   w i l c o x o n   r a n k - s u m   t e s t   ,   u s i n g   t w o - s i d e d   a n a l y s i s   ,   w a s   u s e d   .\n",
            "\n",
            "Chars after Vectorization and Embeddings:\n",
            "[[[ 0.02375387  0.03799501  0.00606074 ... -0.04023597  0.01022015\n",
            "   -0.00753293]\n",
            "  [-0.01659568  0.01186943  0.04203974 ... -0.01616834 -0.04489453\n",
            "    0.01744917]\n",
            "  [-0.00690831 -0.03905838  0.0400951  ...  0.0187465   0.02641605\n",
            "    0.04731693]\n",
            "  ...\n",
            "  [-0.02534236 -0.02015476 -0.00662319 ...  0.02255888 -0.01547077\n",
            "   -0.02587024]\n",
            "  [-0.02534236 -0.02015476 -0.00662319 ...  0.02255888 -0.01547077\n",
            "   -0.02587024]\n",
            "  [-0.02534236 -0.02015476 -0.00662319 ...  0.02255888 -0.01547077\n",
            "   -0.02587024]]]\n",
            "\n",
            "Shape of Embedded Sample: (1, 290, 25)\n"
          ],
          "name": "stdout"
        }
      ]
    },
    {
      "cell_type": "markdown",
      "metadata": {
        "id": "dJVmD7HpcD3Y"
      },
      "source": [
        "## Creating Datasets and testing the Pretrained Token with Character Embeddings\n",
        "\n",
        "Let's test out whether Character Embeddings made a difference. We will not use a Convolution model this time so we can't really compare results but this is a good experiment to test against the baseline.\n",
        "\n",
        "The choices for the `Dense` and `Bidirectional` layers are from replicating the paper's model."
      ]
    },
    {
      "cell_type": "code",
      "metadata": {
        "id": "VKhQHdrGclMq"
      },
      "source": [
        "# 1. Setup token inputs/model\n",
        "token_inputs = layers.Input(shape=(), dtype=tf.string, name=\"text\")\n",
        "processed_tok_inps = preprocess_layer(token_inputs)\n",
        "bert_output = bert_layer(processed_tok_inps, training=False)[\"pooled_output\"]\n",
        "token_outputs = layers.Dense(128, activation=\"relu\")(bert_output)\n",
        "\n",
        "token_model = tf.keras.Model(inputs=token_inputs,\n",
        "                             outputs=token_outputs)\n",
        "\n",
        "# 2. Setup char inputs/model\n",
        "char_inputs = layers.Input(shape=(1,), dtype=tf.string, name=\"chars\")\n",
        "char_vectors = char_vectorizer(char_inputs)\n",
        "char_embeddings = char_embedding_layer(char_vectors)\n",
        "char_bi_LSTM = layers.Bidirectional(layers.LSTM(24))(char_embeddings)\n",
        "\n",
        "char_model = tf.keras.Model(inputs=char_inputs,\n",
        "                            outputs=char_bi_LSTM)\n",
        "\n",
        "# 3. Combine the two to form a hubrud Token Embedding\n",
        "token_char_concat = layers.Concatenate(name=\"token_char_hybrid\")([token_model.output, \n",
        "                                                                  char_model.output])\n",
        "\n",
        "# 4. Add in Dropout as specified by the paper\n",
        "combined_dropout = layers.Dropout(0.5)(token_char_concat)\n",
        "combined_dense = layers.Dense(128, activation=\"relu\")(combined_dropout)\n",
        "last_dropout = layers.Dropout(0.5)(combined_dense)\n",
        "output_layer = layers.Dense(num_classes, activation=\"softmax\")(last_dropout)\n",
        "\n",
        "# 5. Construct the final model\n",
        "token_char_model = tf.keras.Model(inputs=[token_model.input, char_model.input],\n",
        "                                  outputs=output_layer,\n",
        "                                  name=\"model_token_char_embeddings\")\n",
        "\n",
        "# Compile the model\n",
        "token_char_model.compile(loss=\"categorical_crossentropy\",\n",
        "                         optimizer=tf.keras.optimizers.Adam(),\n",
        "                         metrics=[\"accuracy\"])"
      ],
      "execution_count": null,
      "outputs": []
    },
    {
      "cell_type": "code",
      "metadata": {
        "colab": {
          "base_uri": "https://localhost:8080/",
          "height": 856
        },
        "id": "l5ETOsQDfy7L",
        "outputId": "f806b213-a550-49a6-ece4-3dd707dd577e"
      },
      "source": [
        "# Visualize this champ\n",
        "plot_model(token_char_model)"
      ],
      "execution_count": null,
      "outputs": [
        {
          "output_type": "execute_result",
          "data": {
            "image/png": "[encoded data removed]",
            "text/plain": [
              "<IPython.core.display.Image object>"
            ]
          },
          "metadata": {
            "tags": []
          },
          "execution_count": 61
        }
      ]
    },
    {
      "cell_type": "code",
      "metadata": {
        "colab": {
          "base_uri": "https://localhost:8080/"
        },
        "id": "MzW50x_JgEQI",
        "outputId": "b2a8a167-a9b4-4f70-cf7c-36b4d06e3757"
      },
      "source": [
        "token_char_model.summary()"
      ],
      "execution_count": null,
      "outputs": [
        {
          "output_type": "stream",
          "text": [
            "Model: \"model_token_char_embeddings\"\n",
            "__________________________________________________________________________________________________\n",
            "Layer (type)                    Output Shape         Param #     Connected to                     \n",
            "==================================================================================================\n",
            "text (InputLayer)               [(None,)]            0                                            \n",
            "__________________________________________________________________________________________________\n",
            "chars (InputLayer)              [(None, 1)]          0                                            \n",
            "__________________________________________________________________________________________________\n",
            "preprocessing (KerasLayer)      {'input_mask': (None 0           text[0][0]                       \n",
            "__________________________________________________________________________________________________\n",
            "char_vectorizer (TextVectorizat (None, 290)          0           chars[0][0]                      \n",
            "__________________________________________________________________________________________________\n",
            "BERT_encoder (KerasLayer)       {'encoder_outputs':  109482241   preprocessing[4][0]              \n",
            "                                                                 preprocessing[4][1]              \n",
            "                                                                 preprocessing[4][2]              \n",
            "__________________________________________________________________________________________________\n",
            "char_embedding (Embedding)      (None, 290, 25)      700         char_vectorizer[2][0]            \n",
            "__________________________________________________________________________________________________\n",
            "dense_3 (Dense)                 (None, 128)          98432       BERT_encoder[4][13]              \n",
            "__________________________________________________________________________________________________\n",
            "bidirectional_2 (Bidirectional) (None, 48)           9600        char_embedding[2][0]             \n",
            "__________________________________________________________________________________________________\n",
            "token_char_hybrid (Concatenate) (None, 176)          0           dense_3[0][0]                    \n",
            "                                                                 bidirectional_2[0][0]            \n",
            "__________________________________________________________________________________________________\n",
            "dropout (Dropout)               (None, 176)          0           token_char_hybrid[0][0]          \n",
            "__________________________________________________________________________________________________\n",
            "dense_4 (Dense)                 (None, 128)          22656       dropout[0][0]                    \n",
            "__________________________________________________________________________________________________\n",
            "dropout_1 (Dropout)             (None, 128)          0           dense_4[0][0]                    \n",
            "__________________________________________________________________________________________________\n",
            "dense_5 (Dense)                 (None, 5)            645         dropout_1[0][0]                  \n",
            "==================================================================================================\n",
            "Total params: 109,614,274\n",
            "Trainable params: 132,033\n",
            "Non-trainable params: 109,482,241\n",
            "__________________________________________________________________________________________________\n"
          ],
          "name": "stdout"
        }
      ]
    },
    {
      "cell_type": "markdown",
      "metadata": {
        "id": "VPMt7khhgIxR"
      },
      "source": [
        "Since we dictated `inputs=[token_model.input, char_model.input]`, we need to form the `Dataset` keeping this order in mind.\n",
        "\n",
        "On to making a `Dataset` accepting multiple streams."
      ]
    },
    {
      "cell_type": "code",
      "metadata": {
        "colab": {
          "base_uri": "https://localhost:8080/"
        },
        "id": "xwNCerQFgcTo",
        "outputId": "3154c2aa-7100-4c7b-b9d7-026905a25c7e"
      },
      "source": [
        "# Combine chars and tokens into a Dataset, then prefetch\n",
        "train_token_char_data = tf.data.Dataset.from_tensor_slices(\n",
        "    (train_sentences, train_chars)\n",
        ")\n",
        "train_token_char_labels = tf.data.Dataset.from_tensor_slices(train_labels_one_hot)\n",
        "\n",
        "train_token_char_Dataset = tf.data.Dataset.zip(\n",
        "    (train_token_char_data, train_token_char_labels)\n",
        ")\n",
        "train_token_char_Dataset = train_token_char_Dataset.batch(32).prefetch(tf.data.AUTOTUNE)\n",
        "\n",
        "\n",
        "# Same steps for Validation Set\n",
        "val_token_char_data = tf.data.Dataset.from_tensor_slices(\n",
        "    (val_sentences, val_chars)\n",
        ")\n",
        "val_token_char_labels = tf.data.Dataset.from_tensor_slices(val_labels_one_hot)\n",
        "\n",
        "val_token_char_Dataset = tf.data.Dataset.zip(\n",
        "    (val_token_char_data, val_token_char_labels)\n",
        ")\n",
        "val_token_char_Dataset = val_token_char_Dataset.batch(32).prefetch(tf.data.AUTOTUNE)\n",
        "\n",
        "train_token_char_Dataset, val_token_char_Dataset"
      ],
      "execution_count": null,
      "outputs": [
        {
          "output_type": "execute_result",
          "data": {
            "text/plain": [
              "(<PrefetchDataset shapes: (((None,), (None,)), (None, 5)), types: ((tf.string, tf.string), tf.float64)>,\n",
              " <PrefetchDataset shapes: (((None,), (None,)), (None, 5)), types: ((tf.string, tf.string), tf.float64)>)"
            ]
          },
          "metadata": {
            "tags": []
          },
          "execution_count": 67
        }
      ]
    },
    {
      "cell_type": "markdown",
      "metadata": {
        "id": "uTtibOfmhkCO"
      },
      "source": [
        "Now to finally fit the model.\n",
        "\n",
        "**Note:** This is the same model as that in the paper without Positional Embeddings."
      ]
    },
    {
      "cell_type": "code",
      "metadata": {
        "colab": {
          "base_uri": "https://localhost:8080/"
        },
        "id": "Ccrx4VlvirQn",
        "outputId": "46d68c54-4cc2-44a8-896b-74a1f54e591b"
      },
      "source": [
        "# Fit the Hybrid model\n",
        "history_token_char_model = token_char_model.fit(train_token_char_Dataset,\n",
        "                                                epochs=3,\n",
        "                                                steps_per_epoch=int(0.1*len(train_token_char_Dataset)),\n",
        "                                                validation_data=val_char_token_Dataset,\n",
        "                                                validation_steps=int(0.1*len(val_char_token_Dataset)))"
      ],
      "execution_count": null,
      "outputs": [
        {
          "output_type": "stream",
          "text": [
            "Epoch 1/3\n",
            "562/562 [==============================] - 235s 402ms/step - loss: 0.7522 - accuracy: 0.7330 - val_loss: 0.4531 - val_accuracy: 0.8451\n",
            "Epoch 2/3\n",
            "562/562 [==============================] - 234s 416ms/step - loss: 0.5758 - accuracy: 0.8026 - val_loss: 0.4637 - val_accuracy: 0.8178\n",
            "Epoch 3/3\n",
            "562/562 [==============================] - 232s 414ms/step - loss: 0.5481 - accuracy: 0.8117 - val_loss: 0.4336 - val_accuracy: 0.8501\n"
          ],
          "name": "stdout"
        }
      ]
    },
    {
      "cell_type": "code",
      "metadata": {
        "colab": {
          "base_uri": "https://localhost:8080/",
          "height": 573
        },
        "id": "Ru32xIJKmOx6",
        "outputId": "b835f87e-03d8-46f2-9a3e-3ee3f0986887"
      },
      "source": [
        "# Plot the loss curves\n",
        "plot_loss_curves(history_token_char_model)"
      ],
      "execution_count": null,
      "outputs": [
        {
          "output_type": "display_data",
          "data": {
            "image/png": "[encoded data removed]",
            "text/plain": [
              "<Figure size 432x288 with 1 Axes>"
            ]
          },
          "metadata": {
            "tags": [],
            "needs_background": "light"
          }
        },
        {
          "output_type": "display_data",
          "data": {
            "image/png": "[encoded data removed]",
            "text/plain": [
              "<Figure size 432x288 with 1 Axes>"
            ]
          },
          "metadata": {
            "tags": [],
            "needs_background": "light"
          }
        }
      ]
    },
    {
      "cell_type": "code",
      "metadata": {
        "colab": {
          "base_uri": "https://localhost:8080/"
        },
        "id": "as6Edc_kjlPE",
        "outputId": "5cc892b4-3c62-4d8c-ec8c-2dd856c68ef7"
      },
      "source": [
        "# Grab the predictions and evaluate\n",
        "token_char_probs = token_char_model.predict(val_char_token_Dataset, verbose=1)\n",
        "token_char_preds = tf.argmax(token_char_probs, axis=1)"
      ],
      "execution_count": null,
      "outputs": [
        {
          "output_type": "stream",
          "text": [
            "945/945 [==============================] - 312s 328ms/step\n"
          ],
          "name": "stdout"
        }
      ]
    },
    {
      "cell_type": "code",
      "metadata": {
        "id": "C4G1NNJnmfp8"
      },
      "source": [
        "token_char_results = calculate_results(token_char_preds, val_labels_encoded)"
      ],
      "execution_count": null,
      "outputs": []
    },
    {
      "cell_type": "code",
      "metadata": {
        "colab": {
          "base_uri": "https://localhost:8080/"
        },
        "id": "SfZ2epp7ntB0",
        "outputId": "8e0c6256-90b6-4b6f-f783-d0357d8e0247"
      },
      "source": [
        "# Compare the Baseline to the Hybrid Embeddings model\n",
        "print(f\"\"\"\n",
        "Baseline Model Results:\\n{baseline_results}\\n\n",
        "Hybrid Embeddings Model Results:\\n{token_char_results}\n",
        "\"\"\")"
      ],
      "execution_count": null,
      "outputs": [
        {
          "output_type": "stream",
          "text": [
            "\n",
            "Baseline Model Results:\n",
            "{'accuracy': 0.8320865881106845, 'precision': 0.8760295230145912, 'recall': 0.8320865881106845, 'f1': 0.8395819660138925}\n",
            "\n",
            "Hybrid Embeddings Model Results:\n",
            "{'accuracy': 0.8474778233814378, 'precision': 0.8524796547058978, 'recall': 0.8474778233814378, 'f1': 0.8483182648754471}\n",
            "\n"
          ],
          "name": "stdout"
        }
      ]
    },
    {
      "cell_type": "markdown",
      "metadata": {
        "id": "cRYIsnKPn1-z"
      },
      "source": [
        "Seems we beat the Baseline that used fancy Convolution operations, with a Hybrid Embeddings model that used a `Bidirectional` layer in one of the streams and `Dense` layers everywhere else. It is not outlandish to say that we did benefit from the Character Embeddings.\n",
        "\n",
        "# Positional Embeddings\n",
        "\n",
        "The paper outlined that along with pretrained Token Embeddings and custom Character Embeddings, the final model made use of Positional Embeddings.\n",
        "\n",
        "We will do the same since we did store positional information inside the `DataFrame` from earlier."
      ]
    },
    {
      "cell_type": "code",
      "metadata": {
        "colab": {
          "base_uri": "https://localhost:8080/",
          "height": 285
        },
        "id": "6zZmlOao6hvC",
        "outputId": "af90ee0e-d0a7-45cb-f8f8-72df3ce5b7de"
      },
      "source": [
        "# Check the DataFrame\n",
        "train_df.head(7)"
      ],
      "execution_count": 44,
      "outputs": [
        {
          "output_type": "execute_result",
          "data": {
            "text/html": [
              "<div>\n",
              "<style scoped>\n",
              "    .dataframe tbody tr th:only-of-type {\n",
              "        vertical-align: middle;\n",
              "    }\n",
              "\n",
              "    .dataframe tbody tr th {\n",
              "        vertical-align: top;\n",
              "    }\n",
              "\n",
              "    .dataframe thead th {\n",
              "        text-align: right;\n",
              "    }\n",
              "</style>\n",
              "<table border=\"1\" class=\"dataframe\">\n",
              "  <thead>\n",
              "    <tr style=\"text-align: right;\">\n",
              "      <th></th>\n",
              "      <th>line_number</th>\n",
              "      <th>target</th>\n",
              "      <th>text</th>\n",
              "      <th>total_lines</th>\n",
              "    </tr>\n",
              "  </thead>\n",
              "  <tbody>\n",
              "    <tr>\n",
              "      <th>0</th>\n",
              "      <td>0</td>\n",
              "      <td>OBJECTIVE</td>\n",
              "      <td>to investigate the efficacy of @ weeks of dail...</td>\n",
              "      <td>11</td>\n",
              "    </tr>\n",
              "    <tr>\n",
              "      <th>1</th>\n",
              "      <td>1</td>\n",
              "      <td>METHODS</td>\n",
              "      <td>a total of @ patients with primary knee oa wer...</td>\n",
              "      <td>11</td>\n",
              "    </tr>\n",
              "    <tr>\n",
              "      <th>2</th>\n",
              "      <td>2</td>\n",
              "      <td>METHODS</td>\n",
              "      <td>outcome measures included pain reduction and i...</td>\n",
              "      <td>11</td>\n",
              "    </tr>\n",
              "    <tr>\n",
              "      <th>3</th>\n",
              "      <td>3</td>\n",
              "      <td>METHODS</td>\n",
              "      <td>pain was assessed using the visual analog pain...</td>\n",
              "      <td>11</td>\n",
              "    </tr>\n",
              "    <tr>\n",
              "      <th>4</th>\n",
              "      <td>4</td>\n",
              "      <td>METHODS</td>\n",
              "      <td>secondary outcome measures included the wester...</td>\n",
              "      <td>11</td>\n",
              "    </tr>\n",
              "    <tr>\n",
              "      <th>5</th>\n",
              "      <td>5</td>\n",
              "      <td>METHODS</td>\n",
              "      <td>serum levels of interleukin @ ( il-@ ) , il-@ ...</td>\n",
              "      <td>11</td>\n",
              "    </tr>\n",
              "    <tr>\n",
              "      <th>6</th>\n",
              "      <td>6</td>\n",
              "      <td>RESULTS</td>\n",
              "      <td>there was a clinically relevant reduction in t...</td>\n",
              "      <td>11</td>\n",
              "    </tr>\n",
              "  </tbody>\n",
              "</table>\n",
              "</div>"
            ],
            "text/plain": [
              "   line_number  ... total_lines\n",
              "0            0  ...          11\n",
              "1            1  ...          11\n",
              "2            2  ...          11\n",
              "3            3  ...          11\n",
              "4            4  ...          11\n",
              "5            5  ...          11\n",
              "6            6  ...          11\n",
              "\n",
              "[7 rows x 4 columns]"
            ]
          },
          "metadata": {
            "tags": []
          },
          "execution_count": 44
        }
      ]
    },
    {
      "cell_type": "code",
      "metadata": {
        "colab": {
          "base_uri": "https://localhost:8080/",
          "height": 265
        },
        "id": "8m6N5CKi6wHP",
        "outputId": "3ce2b8d3-c5b2-4948-cf1c-2b33b01ea206"
      },
      "source": [
        "# Check the distribution of the line_number(s)\n",
        "train_df[\"line_number\"].plot.hist();"
      ],
      "execution_count": 45,
      "outputs": [
        {
          "output_type": "display_data",
          "data": {
            "image/png": "[encoded data removed]",
            "text/plain": [
              "<Figure size 432x288 with 1 Axes>"
            ]
          },
          "metadata": {
            "tags": [],
            "needs_background": "light"
          }
        }
      ]
    },
    {
      "cell_type": "code",
      "metadata": {
        "colab": {
          "base_uri": "https://localhost:8080/"
        },
        "id": "cYeQ12Xc8Ena",
        "outputId": "693bc4b6-2ce3-4871-859a-346583014627"
      },
      "source": [
        "# Use percentiles to find a good value\n",
        "np.percentile(train_df[\"line_number\"], 95)"
      ],
      "execution_count": 48,
      "outputs": [
        {
          "output_type": "execute_result",
          "data": {
            "text/plain": [
              "13.0"
            ]
          },
          "metadata": {
            "tags": []
          },
          "execution_count": 48
        }
      ]
    },
    {
      "cell_type": "markdown",
      "metadata": {
        "id": "hl61UDf664mR"
      },
      "source": [
        "The majority of samples have `line_number` values below 15 which means we can One-Hot Encode these values with this depth. \n",
        "\n",
        "We do not label encode since we don't want the model to have any notion of hierarchy (like the length of the line) other than the order of the lines."
      ]
    },
    {
      "cell_type": "code",
      "metadata": {
        "colab": {
          "base_uri": "https://localhost:8080/"
        },
        "id": "rZpnAPf97V4n",
        "outputId": "a4316436-1664-444b-b75a-7b0b4aeee61f"
      },
      "source": [
        "# One-Hot Encode the line_number column\n",
        "train_line_numbers_one_hot = tf.one_hot(train_df[\"line_number\"].to_numpy(), depth=15)\n",
        "val_line_numbers_one_hot = tf.one_hot(val_df[\"line_number\"].to_numpy(), depth=15)\n",
        "test_line_numbers_one_hot = tf.one_hot(test_df[\"line_number\"].to_numpy(), depth=15)\n",
        "\n",
        "train_line_numbers_one_hot.shape"
      ],
      "execution_count": 46,
      "outputs": [
        {
          "output_type": "execute_result",
          "data": {
            "text/plain": [
              "TensorShape([180040, 15])"
            ]
          },
          "metadata": {
            "tags": []
          },
          "execution_count": 46
        }
      ]
    },
    {
      "cell_type": "markdown",
      "metadata": {
        "id": "Z5g6xSGj7vY9"
      },
      "source": [
        "Now to also encode `total_lines`.\n",
        "\n",
        "We also choose One-Hot Encoding here and have the depth equal to `20`."
      ]
    },
    {
      "cell_type": "code",
      "metadata": {
        "colab": {
          "base_uri": "https://localhost:8080/",
          "height": 285
        },
        "id": "G7OgdoVL75aj",
        "outputId": "a558c3da-8eb5-471e-fe72-e73cfd4655b6"
      },
      "source": [
        "# Check the distribution of total_lines\n",
        "train_df[\"total_lines\"].plot.hist()"
      ],
      "execution_count": 47,
      "outputs": [
        {
          "output_type": "execute_result",
          "data": {
            "text/plain": [
              "<matplotlib.axes._subplots.AxesSubplot at 0x7fab98e1b810>"
            ]
          },
          "metadata": {
            "tags": []
          },
          "execution_count": 47
        },
        {
          "output_type": "display_data",
          "data": {
            "image/png": "[encoded data removed]",
            "text/plain": [
              "<Figure size 432x288 with 1 Axes>"
            ]
          },
          "metadata": {
            "tags": [],
            "needs_background": "light"
          }
        }
      ]
    },
    {
      "cell_type": "code",
      "metadata": {
        "colab": {
          "base_uri": "https://localhost:8080/"
        },
        "id": "9rxqtdJw7-eT",
        "outputId": "5b437806-ffe3-4a2b-b2f6-3732a1679893"
      },
      "source": [
        "# Use percentiles to find a good value\n",
        "np.percentile(train_df[\"total_lines\"], 95)"
      ],
      "execution_count": 49,
      "outputs": [
        {
          "output_type": "execute_result",
          "data": {
            "text/plain": [
              "18.0"
            ]
          },
          "metadata": {
            "tags": []
          },
          "execution_count": 49
        }
      ]
    },
    {
      "cell_type": "code",
      "metadata": {
        "colab": {
          "base_uri": "https://localhost:8080/"
        },
        "id": "8PyccjlV8YVr",
        "outputId": "fa3a16ef-67e3-42cc-9286-ef41000788cd"
      },
      "source": [
        "# One-Hot Encode the total_lines col\n",
        "train_total_lines_one_hot = tf.one_hot(train_df[\"total_lines\"].to_numpy(), depth=20)\n",
        "val_total_lines_one_hot = tf.one_hot(val_df[\"total_lines\"].to_numpy(), depth=20)\n",
        "test_total_lines_one_hot = tf.one_hot(test_df[\"total_lines\"].to_numpy(), depth=20)\n",
        "\n",
        "train_total_lines_one_hot.shape"
      ],
      "execution_count": 51,
      "outputs": [
        {
          "output_type": "execute_result",
          "data": {
            "text/plain": [
              "TensorShape([180040, 20])"
            ]
          },
          "metadata": {
            "tags": []
          },
          "execution_count": 51
        }
      ]
    },
    {
      "cell_type": "markdown",
      "metadata": {
        "id": "S_8CDmnE84TQ"
      },
      "source": [
        "# Constructing a Tribrid Model\n",
        "\n",
        "Now to put everything together!\n",
        "\n",
        "We will follow the procedure:\n",
        "1. Create a token-level model\n",
        "2. Create a character-level model\n",
        "3. Create a model for the `line_number` feature\n",
        "4. Create a model for the `total_lines` feature\n",
        "5. Combine the outputs of (1) and (2) \n",
        "6. Combine the outputs of (3), (4) and (5) \n",
        "7. Create an output layer to accept the Tribrid Embedding and output prediction probabilities\n",
        "8. Instantiate the model"
      ]
    },
    {
      "cell_type": "code",
      "metadata": {
        "colab": {
          "base_uri": "https://localhost:8080/"
        },
        "id": "NygEstze9u3N",
        "outputId": "da273f15-67c2-4ad5-8885-94f76311903e"
      },
      "source": [
        "# 1. Token inputs\n",
        "token_inputs = layers.Input(shape=(), dtype=tf.string, name=\"token_inputs\")\n",
        "preprocessed_inputs = preprocess_layer(token_inputs)\n",
        "bert_output = bert_layer(preprocessed_inputs, training=False)[\"pooled_output\"]\n",
        "token_outputs = layers.Dense(128, activation=\"relu\")(bert_output)\n",
        "\n",
        "token_model = tf.keras.Model(inputs=token_inputs,\n",
        "                             outputs=token_outputs)\n",
        "\n",
        "# 2. Character inputs\n",
        "char_inputs = layers.Input(shape=(1,), dtype=tf.string, name=\"char_inputs\")\n",
        "char_vectors = char_vectorizer(char_inputs)\n",
        "char_embeddings = char_embedding_layer(char_vectors)\n",
        "char_bi_LSTM = layers.Bidirectional(layers.LSTM(24))(char_embeddings)\n",
        "\n",
        "char_model = tf.keras.Model(inputs=char_inputs,\n",
        "                            outputs=char_bi_LSTM)\n",
        "\n",
        "# 3. Line Numbers model\n",
        "line_numbers_inputs = layers.Input(shape=(15,), dtype=tf.float32, name=\"line_number_inputs\")\n",
        "x = layers.Dense(32, activation=\"relu\")(line_numbers_inputs)\n",
        "\n",
        "line_number_model = tf.keras.Model(inputs=line_numbers_inputs,\n",
        "                                   outputs=x)\n",
        "\n",
        "# 4. Total Lines model\n",
        "total_lines_inputs = layers.Input(shape=(20,), dtype=tf.float32, name=\"total_lines_inputs\")\n",
        "y = layers.Dense(32, activation=\"relu\")(total_lines_inputs)\n",
        "\n",
        "total_lines_model = tf.keras.Model(inputs=total_lines_inputs,\n",
        "                                   outputs=y)\n",
        "\n",
        "# 5. Combine Token and Char Embeddings with Dense and Dropout\n",
        "combined_embeddings = layers.Concatenate(name=\"token_char_hybrid\")([token_model.output,\n",
        "                                                                    char_model.output])\n",
        "z = layers.Dense(256, activation=\"relu\")(combined_embeddings)\n",
        "z = layers.Dropout(0.5)(z)\n",
        "\n",
        "# 6. Combine Positional Embeddings with Hybrid Model\n",
        "tribrid_embeddings = layers.Concatenate(name=\"positional_token_char_embeddings\")([line_number_model.output,\n",
        "                                                                                  total_lines_model.output,\n",
        "                                                                                  z])\n",
        "\n",
        "# 7. Create output layer\n",
        "output_layer = layers.Dense(5, activation=\"softmax\", name=\"output_layer\")(tribrid_embeddings)\n",
        "\n",
        "# 8. Put it all together\n",
        "tribrid_model = tf.keras.Model(inputs=[line_number_model.input,\n",
        "                                       total_lines_model.input,\n",
        "                                       token_model.input,\n",
        "                                       char_model.input],\n",
        "                               outputs=output_layer,\n",
        "                               name=\"tribrid_embedding_model\")\n",
        "\n",
        "# Check the summary\n",
        "tribrid_model.summary()"
      ],
      "execution_count": 52,
      "outputs": [
        {
          "output_type": "stream",
          "text": [
            "Model: \"tribrid_embedding_model\"\n",
            "__________________________________________________________________________________________________\n",
            "Layer (type)                    Output Shape         Param #     Connected to                     \n",
            "==================================================================================================\n",
            "token_inputs (InputLayer)       [(None,)]            0                                            \n",
            "__________________________________________________________________________________________________\n",
            "char_inputs (InputLayer)        [(None, 1)]          0                                            \n",
            "__________________________________________________________________________________________________\n",
            "preprocessing (KerasLayer)      {'input_word_ids': ( 0           token_inputs[0][0]               \n",
            "__________________________________________________________________________________________________\n",
            "char_vectorizer (TextVectorizat (None, 290)          0           char_inputs[0][0]                \n",
            "__________________________________________________________________________________________________\n",
            "BERT_encoder (KerasLayer)       {'encoder_outputs':  109482241   preprocessing[0][0]              \n",
            "                                                                 preprocessing[0][1]              \n",
            "                                                                 preprocessing[0][2]              \n",
            "__________________________________________________________________________________________________\n",
            "char_embedding (Embedding)      (None, 290, 25)      700         char_vectorizer[0][0]            \n",
            "__________________________________________________________________________________________________\n",
            "dense (Dense)                   (None, 128)          98432       BERT_encoder[0][13]              \n",
            "__________________________________________________________________________________________________\n",
            "bidirectional (Bidirectional)   (None, 48)           9600        char_embedding[0][0]             \n",
            "__________________________________________________________________________________________________\n",
            "token_char_hybrid (Concatenate) (None, 176)          0           dense[0][0]                      \n",
            "                                                                 bidirectional[0][0]              \n",
            "__________________________________________________________________________________________________\n",
            "line_number_inputs (InputLayer) [(None, 15)]         0                                            \n",
            "__________________________________________________________________________________________________\n",
            "total_lines_inputs (InputLayer) [(None, 20)]         0                                            \n",
            "__________________________________________________________________________________________________\n",
            "dense_3 (Dense)                 (None, 256)          45312       token_char_hybrid[0][0]          \n",
            "__________________________________________________________________________________________________\n",
            "dense_1 (Dense)                 (None, 32)           512         line_number_inputs[0][0]         \n",
            "__________________________________________________________________________________________________\n",
            "dense_2 (Dense)                 (None, 32)           672         total_lines_inputs[0][0]         \n",
            "__________________________________________________________________________________________________\n",
            "dropout (Dropout)               (None, 256)          0           dense_3[0][0]                    \n",
            "__________________________________________________________________________________________________\n",
            "positional_token_char_embedding (None, 320)          0           dense_1[0][0]                    \n",
            "                                                                 dense_2[0][0]                    \n",
            "                                                                 dropout[0][0]                    \n",
            "__________________________________________________________________________________________________\n",
            "output_layer (Dense)            (None, 5)            1605        positional_token_char_embeddings[\n",
            "==================================================================================================\n",
            "Total params: 109,639,074\n",
            "Trainable params: 156,833\n",
            "Non-trainable params: 109,482,241\n",
            "__________________________________________________________________________________________________\n"
          ],
          "name": "stdout"
        }
      ]
    },
    {
      "cell_type": "code",
      "metadata": {
        "colab": {
          "base_uri": "https://localhost:8080/",
          "height": 616
        },
        "id": "s3o0XOCPBpxP",
        "outputId": "5d1a29c6-a743-4217-c69f-17ec17eae911"
      },
      "source": [
        "# The huge reveal\n",
        "from tensorflow.keras.utils import plot_model\n",
        "plot_model(tribrid_model)"
      ],
      "execution_count": 53,
      "outputs": [
        {
          "output_type": "execute_result",
          "data": {
            "image/png": "[encoded data removed]",
            "text/plain": [
              "<IPython.core.display.Image object>"
            ]
          },
          "metadata": {
            "tags": []
          },
          "execution_count": 53
        }
      ]
    },
    {
      "cell_type": "markdown",
      "metadata": {
        "id": "UFg2cKTFCJ_E"
      },
      "source": [
        "Perfect!\n",
        "\n",
        "When compiling the model, we will add **Label Smoothing** to try and reduce chances of Overfitting."
      ]
    },
    {
      "cell_type": "code",
      "metadata": {
        "id": "2FGOqa-QB6ja"
      },
      "source": [
        "# Compile the model\n",
        "tribrid_model.compile(loss=tf.keras.losses.CategoricalCrossentropy(label_smoothing=0.2),\n",
        "                      optimizer=tf.keras.optimizers.Adam(),\n",
        "                      metrics=[\"accuracy\"])"
      ],
      "execution_count": 54,
      "outputs": []
    },
    {
      "cell_type": "markdown",
      "metadata": {
        "id": "JDzNlOOJCkfz"
      },
      "source": [
        "## Creating Data Input Pipeline and fitting the Model\n",
        "\n",
        "Now to create Prefetched Datasets and a appropriate callbacks to capture the best model we can during training."
      ]
    },
    {
      "cell_type": "code",
      "metadata": {
        "colab": {
          "base_uri": "https://localhost:8080/"
        },
        "id": "E8UeVc05Coap",
        "outputId": "8c065c5e-25d3-4dc6-b22d-a679ad7e5643"
      },
      "source": [
        "# Zip the four inputs to form a Prefetched Dataset\n",
        "train_pos_token_char_data = tf.data.Dataset.from_tensor_slices(\n",
        "    (train_line_numbers_one_hot, train_total_lines_one_hot, train_sentences, train_chars)\n",
        ")\n",
        "train_pos_token_char_labels = tf.data.Dataset.from_tensor_slices(train_labels_one_hot)\n",
        "\n",
        "train_pos_token_char_Dataset = tf.data.Dataset.zip(\n",
        "    (train_pos_token_char_data, train_pos_token_char_labels)\n",
        ").batch(32).prefetch(tf.data.AUTOTUNE)\n",
        "\n",
        "# Same for the Validation data\n",
        "val_pos_token_char_data = tf.data.Dataset.from_tensor_slices(\n",
        "    (val_line_numbers_one_hot, val_total_lines_one_hot, val_sentences, val_chars)\n",
        ")\n",
        "val_pos_token_char_labels = tf.data.Dataset.from_tensor_slices(val_labels_one_hot)\n",
        "\n",
        "val_pos_token_char_Dataset = tf.data.Dataset.zip(\n",
        "    (val_pos_token_char_data, val_pos_token_char_labels)\n",
        ").batch(32).prefetch(tf.data.AUTOTUNE)\n",
        "\n",
        "train_pos_token_char_Dataset, val_pos_token_char_Dataset"
      ],
      "execution_count": 55,
      "outputs": [
        {
          "output_type": "execute_result",
          "data": {
            "text/plain": [
              "(<PrefetchDataset shapes: (((None, 15), (None, 20), (None,), (None,)), (None, 5)), types: ((tf.float32, tf.float32, tf.string, tf.string), tf.float64)>,\n",
              " <PrefetchDataset shapes: (((None, 15), (None, 20), (None,), (None,)), (None, 5)), types: ((tf.float32, tf.float32, tf.string, tf.string), tf.float64)>)"
            ]
          },
          "metadata": {
            "tags": []
          },
          "execution_count": 55
        }
      ]
    },
    {
      "cell_type": "code",
      "metadata": {
        "id": "8MoWQSsqDt3e"
      },
      "source": [
        "# Instantiate ModelCheckpoint and EarlyStopping callbacks\n",
        "early_stopping = tf.keras.callbacks.EarlyStopping(patience=3,\n",
        "                                                  restore_best_weights=True)\n",
        "model_checkpoint = tf.keras.callbacks.ModelCheckpoint(\"model_checkpoints.ckpt\",\n",
        "                                                      save_weights_only=True,\n",
        "                                                      save_best_only=True)"
      ],
      "execution_count": 56,
      "outputs": []
    },
    {
      "cell_type": "code",
      "metadata": {
        "colab": {
          "base_uri": "https://localhost:8080/"
        },
        "id": "HVTU_AqvFKWV",
        "outputId": "d26ce34e-c4e3-40b8-a13e-f7f05e22f3f3"
      },
      "source": [
        "# Fit the model on 20% of the data till it stops improving\n",
        "STEPS_PER_EPOCH = int(0.2*len(train_pos_token_char_Dataset))\n",
        "VALIDATION_STEPS = int(0.1*len(val_pos_token_char_Dataset))\n",
        "\n",
        "history_tribrid_model = tribrid_model.fit(train_pos_token_char_Dataset,\n",
        "                                          steps_per_epoch=STEPS_PER_EPOCH,\n",
        "                                          validation_data=val_pos_token_char_Dataset,\n",
        "                                          validation_steps=VALIDATION_STEPS,\n",
        "                                          epochs=15,\n",
        "                                          callbacks=[early_stopping, model_checkpoint])"
      ],
      "execution_count": 58,
      "outputs": [
        {
          "output_type": "stream",
          "text": [
            "Epoch 1/15\n",
            "1125/1125 [==============================] - 438s 375ms/step - loss: 0.9431 - accuracy: 0.8373 - val_loss: 0.8638 - val_accuracy: 0.8803\n",
            "Epoch 2/15\n",
            "1125/1125 [==============================] - 421s 374ms/step - loss: 0.8808 - accuracy: 0.8736 - val_loss: 0.8538 - val_accuracy: 0.8780\n",
            "Epoch 3/15\n",
            "1125/1125 [==============================] - 421s 374ms/step - loss: 0.8742 - accuracy: 0.8777 - val_loss: 0.8482 - val_accuracy: 0.8820\n",
            "Epoch 4/15\n",
            "1125/1125 [==============================] - 425s 378ms/step - loss: 0.8646 - accuracy: 0.8819 - val_loss: 0.8466 - val_accuracy: 0.8900\n",
            "Epoch 5/15\n",
            "1125/1125 [==============================] - 424s 377ms/step - loss: 0.8630 - accuracy: 0.8812 - val_loss: 0.8897 - val_accuracy: 0.8471\n",
            "Epoch 6/15\n",
            "   2/1125 [..............................] - ETA: 1:45 - loss: 0.9024 - accuracy: 0.8250WARNING:tensorflow:Your input ran out of data; interrupting training. Make sure that your dataset or generator can generate at least `steps_per_epoch * epochs` batches (in this case, 16875 batches). You may need to use the repeat() function when building your dataset.\n"
          ],
          "name": "stdout"
        },
        {
          "output_type": "stream",
          "text": [
            "WARNING:tensorflow:Your input ran out of data; interrupting training. Make sure that your dataset or generator can generate at least `steps_per_epoch * epochs` batches (in this case, 16875 batches). You may need to use the repeat() function when building your dataset.\n"
          ],
          "name": "stderr"
        },
        {
          "output_type": "stream",
          "text": [
            "\b\b\b\b\b\b\b\b\b\b\b\b\b\b\b\b\b\b\b\b\b\b\b\b\b\b\b\b\b\b\b\b\b\b\b\b\b\b\b\b\b\b\b\b\b\b\b\b\b\b\b\b\b\b\b\b\b\b\b\b\b\b\b\b\b\b\b\b\b\b\b\b\b\b\b\b\b\b\b\b\b\b\b\b\b\b\b\b\r1125/1125 [==============================] - 31s 27ms/step - loss: 0.9024 - accuracy: 0.8250 - val_loss: 0.8800 - val_accuracy: 0.8580\n"
          ],
          "name": "stdout"
        }
      ]
    },
    {
      "cell_type": "code",
      "metadata": {
        "colab": {
          "base_uri": "https://localhost:8080/"
        },
        "id": "Uq0SsUWQF-87",
        "outputId": "9cda40dc-95f4-41ef-8889-b456c6a2eae5"
      },
      "source": [
        "# Get the predictions\n",
        "tribrid_probs = tribrid_model.predict(val_pos_token_char_Dataset, verbose=1)\n",
        "tribrid_preds = tf.argmax(tribrid_probs, axis=1)\n",
        "tribrid_preds[:5]"
      ],
      "execution_count": 61,
      "outputs": [
        {
          "output_type": "stream",
          "text": [
            "945/945 [==============================] - 296s 314ms/step\n"
          ],
          "name": "stdout"
        },
        {
          "output_type": "execute_result",
          "data": {
            "text/plain": [
              "<tf.Tensor: shape=(5,), dtype=int64, numpy=array([0, 0, 0, 2, 2])>"
            ]
          },
          "metadata": {
            "tags": []
          },
          "execution_count": 61
        }
      ]
    },
    {
      "cell_type": "code",
      "metadata": {
        "colab": {
          "base_uri": "https://localhost:8080/"
        },
        "id": "PtS-jBz8GhUw",
        "outputId": "74b8cbea-9f14-44dc-9795-fe08aee3629a"
      },
      "source": [
        "# Evaluate\n",
        "tribrid_results = calculate_results(val_labels_encoded,\n",
        "                                    tribrid_preds)\n",
        "tribrid_results"
      ],
      "execution_count": 62,
      "outputs": [
        {
          "output_type": "execute_result",
          "data": {
            "text/plain": [
              "{'accuracy': 0.8614788825632199,\n",
              " 'f1': 0.85833374996508,\n",
              " 'precision': 0.8650365936794728,\n",
              " 'recall': 0.8614788825632199}"
            ]
          },
          "metadata": {
            "tags": []
          },
          "execution_count": 62
        }
      ]
    },
    {
      "cell_type": "code",
      "metadata": {
        "colab": {
          "base_uri": "https://localhost:8080/",
          "height": 573
        },
        "id": "zx800FyGG4oJ",
        "outputId": "2489d451-1f6a-4c28-bca2-0c5029d90e89"
      },
      "source": [
        "# Plot the loss curves\n",
        "plot_loss_curves(history_tribrid_model)"
      ],
      "execution_count": 60,
      "outputs": [
        {
          "output_type": "display_data",
          "data": {
            "image/png": "[encoded data removed]",
            "text/plain": [
              "<Figure size 432x288 with 1 Axes>"
            ]
          },
          "metadata": {
            "tags": [],
            "needs_background": "light"
          }
        },
        {
          "output_type": "display_data",
          "data": {
            "image/png": "[encoded data removed]",
            "text/plain": [
              "<Figure size 432x288 with 1 Axes>"
            ]
          },
          "metadata": {
            "tags": [],
            "needs_background": "light"
          }
        }
      ]
    },
    {
      "cell_type": "markdown",
      "metadata": {
        "id": "8mDJR56LHCzM"
      },
      "source": [
        "# Comparing the Models\n",
        "\n",
        "We only created three models:\n",
        "* A Convolution-1D model with pretrained Token Embeddings trained for 3 epochs on 10% of the data\n",
        "* A Hybrid model with pretrained Token and custom Character Embeddings trained for 3 epochs on 10% of the data\n",
        "* A Tribrid model with pretraind Token and custom Character and Positional Embeddings trained on 20% of the data until it stopped improving\n",
        "\n",
        "This really isn't a fair comparison but this way we can compare what happens when we really push our models."
      ]
    },
    {
      "cell_type": "code",
      "metadata": {
        "colab": {
          "base_uri": "https://localhost:8080/",
          "height": 143
        },
        "id": "XNqEDEO3HlyX",
        "outputId": "1436b5bc-42bf-49f5-f392-82ba1493d739"
      },
      "source": [
        "# Put everything into a DataFrame\n",
        "import pandas as pd\n",
        "all_results = pd.DataFrame({\n",
        "    \"Conv1D_PretrainedToken\": baseline_results,\n",
        "    \"Hybrid_Embeddings\": token_char_results,\n",
        "    \"Tribrid_Embeddings\": tribrid_results\n",
        "}).transpose()\n",
        "\n",
        "all_results"
      ],
      "execution_count": 63,
      "outputs": [
        {
          "output_type": "execute_result",
          "data": {
            "text/html": [
              "<div>\n",
              "<style scoped>\n",
              "    .dataframe tbody tr th:only-of-type {\n",
              "        vertical-align: middle;\n",
              "    }\n",
              "\n",
              "    .dataframe tbody tr th {\n",
              "        vertical-align: top;\n",
              "    }\n",
              "\n",
              "    .dataframe thead th {\n",
              "        text-align: right;\n",
              "    }\n",
              "</style>\n",
              "<table border=\"1\" class=\"dataframe\">\n",
              "  <thead>\n",
              "    <tr style=\"text-align: right;\">\n",
              "      <th></th>\n",
              "      <th>accuracy</th>\n",
              "      <th>precision</th>\n",
              "      <th>recall</th>\n",
              "      <th>f1</th>\n",
              "    </tr>\n",
              "  </thead>\n",
              "  <tbody>\n",
              "    <tr>\n",
              "      <th>Conv1D_PretrainedToken</th>\n",
              "      <td>0.832087</td>\n",
              "      <td>0.876030</td>\n",
              "      <td>0.832087</td>\n",
              "      <td>0.839582</td>\n",
              "    </tr>\n",
              "    <tr>\n",
              "      <th>Hybrid_Embeddings</th>\n",
              "      <td>0.847478</td>\n",
              "      <td>0.852480</td>\n",
              "      <td>0.847478</td>\n",
              "      <td>0.848318</td>\n",
              "    </tr>\n",
              "    <tr>\n",
              "      <th>Tribrid_Embeddings</th>\n",
              "      <td>0.861479</td>\n",
              "      <td>0.865037</td>\n",
              "      <td>0.861479</td>\n",
              "      <td>0.858334</td>\n",
              "    </tr>\n",
              "  </tbody>\n",
              "</table>\n",
              "</div>"
            ],
            "text/plain": [
              "                        accuracy  precision    recall        f1\n",
              "Conv1D_PretrainedToken  0.832087   0.876030  0.832087  0.839582\n",
              "Hybrid_Embeddings       0.847478   0.852480  0.847478  0.848318\n",
              "Tribrid_Embeddings      0.861479   0.865037  0.861479  0.858334"
            ]
          },
          "metadata": {
            "tags": []
          },
          "execution_count": 63
        }
      ]
    },
    {
      "cell_type": "code",
      "metadata": {
        "colab": {
          "base_uri": "https://localhost:8080/",
          "height": 567
        },
        "id": "JUjc8N80INe8",
        "outputId": "a6445f76-8d3b-4d47-b1bf-5a985267f878"
      },
      "source": [
        "# Visualize the results\n",
        "all_results.plot(kind=\"bar\", figsize=(10,8)).legend(bbox_to_anchor=(1.0,1.0));"
      ],
      "execution_count": 64,
      "outputs": [
        {
          "output_type": "display_data",
          "data": {
            "image/png": "[encoded data removed]",
            "text/plain": [
              "<Figure size 720x576 with 1 Axes>"
            ]
          },
          "metadata": {
            "tags": [],
            "needs_background": "light"
          }
        }
      ]
    },
    {
      "cell_type": "code",
      "metadata": {
        "colab": {
          "base_uri": "https://localhost:8080/",
          "height": 615
        },
        "id": "OvLHnhQjIYm0",
        "outputId": "ffbc6b09-eaa6-4e75-e953-31563eb733d0"
      },
      "source": [
        "# A graphic for the F1 scores\n",
        "all_results.sort_values(\"f1\", ascending=True)[\"f1\"].plot(kind=\"bar\", figsize=(10,8))"
      ],
      "execution_count": 65,
      "outputs": [
        {
          "output_type": "execute_result",
          "data": {
            "text/plain": [
              "<matplotlib.axes._subplots.AxesSubplot at 0x7fabd8e911d0>"
            ]
          },
          "metadata": {
            "tags": []
          },
          "execution_count": 65
        },
        {
          "output_type": "display_data",
          "data": {
            "image/png": "[encoded data removed]",
            "text/plain": [
              "<Figure size 720x576 with 1 Axes>"
            ]
          },
          "metadata": {
            "tags": [],
            "needs_background": "light"
          }
        }
      ]
    },
    {
      "cell_type": "code",
      "metadata": {
        "colab": {
          "base_uri": "https://localhost:8080/"
        },
        "id": "afAxBvrnRHNd",
        "outputId": "0b8ed67c-270d-4b41-ff2e-1c33b6cb77db"
      },
      "source": [
        "# Save the model to Google Drive\n",
        "save_dir = \"drive/MyDrive/models/SkimLit/RCT20k_6_Epochs20%\"\n",
        "os.makedirs(save_dir) # Make this directory if it doesn't already exist\n",
        "\n",
        "# Save model\n",
        "tribrid_model.save(save_dir)"
      ],
      "execution_count": 66,
      "outputs": [
        {
          "output_type": "stream",
          "text": [
            "WARNING:absl:Found untraced functions such as lstm_cell_1_layer_call_fn, lstm_cell_1_layer_call_and_return_conditional_losses, lstm_cell_2_layer_call_fn, lstm_cell_2_layer_call_and_return_conditional_losses, lstm_cell_1_layer_call_fn while saving (showing 5 of 910). These functions will not be directly callable after loading.\n"
          ],
          "name": "stderr"
        },
        {
          "output_type": "stream",
          "text": [
            "INFO:tensorflow:Assets written to: drive/MyDrive/models/SkimLit/RCT20k_6_Epochs20%/assets\n"
          ],
          "name": "stdout"
        },
        {
          "output_type": "stream",
          "text": [
            "INFO:tensorflow:Assets written to: drive/MyDrive/models/SkimLit/RCT20k_6_Epochs20%/assets\n"
          ],
          "name": "stderr"
        }
      ]
    },
    {
      "cell_type": "markdown",
      "metadata": {
        "id": "lme2OBbXSe7f"
      },
      "source": [
        "While we did not beat the results in the aforementioned paper, it is likely that with more epochs and using a larger portion of the training set (provided there are no ERRORS during training), we can eventually beat the paper's benchmark.\n",
        "\n",
        "# FIN"
      ]
    },
    {
      "cell_type": "code",
      "metadata": {
        "id": "I8VcHzXYS-cd"
      },
      "source": [
        ""
      ],
      "execution_count": null,
      "outputs": []
    }
  ]
}